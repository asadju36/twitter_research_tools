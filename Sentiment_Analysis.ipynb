{
 "cells": [
  {
   "cell_type": "code",
   "execution_count": 135,
   "metadata": {
    "collapsed": false,
    "deletable": true,
    "editable": true
   },
   "outputs": [
    {
     "name": "stdout",
     "output_type": "stream",
     "text": [
      "[nltk_data] Downloading package wordnet to /Users/g/nltk_data...\n",
      "[nltk_data]   Package wordnet is already up-to-date!\n"
     ]
    },
    {
     "data": {
      "text/plain": [
       "True"
      ]
     },
     "execution_count": 135,
     "metadata": {},
     "output_type": "execute_result"
    }
   ],
   "source": [
    "import json as js\n",
    "import glob\n",
    "import sys\n",
    "import pandas as pd\n",
    "import numpy as np\n",
    "from sklearn.feature_extraction.text import TfidfVectorizer, CountVectorizer\n",
    "from sklearn.decomposition import NMF, LatentDirichletAllocation\n",
    "from sklearn.manifold import TSNE\n",
    "from sklearn.feature_extraction import text \n",
    "from sklearn.cluster import KMeans, MiniBatchKMeans\n",
    "import matplotlib.pyplot as plt\n",
    "import matplotlib.patches as mpatches\n",
    "import matplotlib\n",
    "%matplotlib inline\n",
    "import seaborn as sns\n",
    "import numpy as np\n",
    "import bokeh.plotting as bp\n",
    "from bokeh.plotting import save\n",
    "from bokeh.models import HoverTool\n",
    "import os\n",
    "from copy import deepcopy\n",
    "import time\n",
    "import datetime\n",
    "import nltk\n",
    "nltk.download('wordnet')"
   ]
  },
  {
   "cell_type": "code",
   "execution_count": 136,
   "metadata": {
    "collapsed": true,
    "deletable": true,
    "editable": true
   },
   "outputs": [],
   "source": [
    "additional_stop_words = ['rt','t','http','u','s','follow','m','dm','y'] ##USE THIS FOR STOP WORDS\n",
    "stop_words = text.ENGLISH_STOP_WORDS.union(additional_stop_words)"
   ]
  },
  {
   "cell_type": "code",
   "execution_count": 137,
   "metadata": {
    "collapsed": true,
    "deletable": true,
    "editable": true
   },
   "outputs": [],
   "source": [
    "from nltk import word_tokenize\n",
    "from nltk.tokenize import RegexpTokenizer\n",
    "tokenizer = RegexpTokenizer(r'\\w+')\n",
    "from nltk.stem import WordNetLemmatizer \n",
    "class LemmaTokenizer(object):\n",
    "    def __init__(self):\n",
    "        self.wnl = WordNetLemmatizer()\n",
    "    def __call__(self, doc):\n",
    "        return [self.wnl.lemmatize(t) for t in tokenizer.tokenize(doc)]"
   ]
  },
  {
   "cell_type": "code",
   "execution_count": 117,
   "metadata": {
    "collapsed": true,
    "deletable": true,
    "editable": true
   },
   "outputs": [],
   "source": [
    "directory = './data/*'\n",
    "dictionary = './AFINN-111.txt'"
   ]
  },
  {
   "cell_type": "code",
   "execution_count": 118,
   "metadata": {
    "collapsed": false,
    "deletable": true,
    "editable": true
   },
   "outputs": [],
   "source": [
    "fdict = open(dictionary,'r')\n",
    "sent_dict = {}\n",
    "for line in fdict:\n",
    "    line = line.strip('\\n')\n",
    "    line = line.split('\\t')\n",
    "    sent_dict[line[0]] = int(line[1])"
   ]
  },
  {
   "cell_type": "markdown",
   "metadata": {
    "deletable": true,
    "editable": true
   },
   "source": [
    "## LOAD TWEET OBJECTS"
   ]
  },
  {
   "cell_type": "code",
   "execution_count": 119,
   "metadata": {
    "collapsed": true,
    "deletable": true,
    "editable": true
   },
   "outputs": [],
   "source": [
    "tweet_objects = []\n",
    "dirs = glob.glob(directory)\n",
    "for dr in dirs:\n",
    "    files = glob.glob(dr+'/*')\n",
    "    for f in files:\n",
    "            fin = open(f,'r')\n",
    "            for line in fin:\n",
    "                try:\n",
    "                    dat = js.loads(line)\n",
    "                    tweet_objects.append(dat)\n",
    "                except:\n",
    "                    continue\n",
    "            fin.close()"
   ]
  },
  {
   "cell_type": "code",
   "execution_count": 120,
   "metadata": {
    "collapsed": true,
    "deletable": true,
    "editable": true
   },
   "outputs": [],
   "source": [
    "months = {'Jan':'01','Feb':'02','Mar':'03','Apr':'04','May':'05','Jun':'06','Jul':'07',\\\n",
    "         'Aug':'08','Sep':'09','Oct':'10','Nov':'11','Dec':'12'}"
   ]
  },
  {
   "cell_type": "code",
   "execution_count": 121,
   "metadata": {
    "collapsed": true,
    "deletable": true,
    "editable": true
   },
   "outputs": [],
   "source": [
    "fout = open('tmp.dat','w')\n",
    "for ln in tweet_objects:\n",
    "    try:\n",
    "        entities = ln['entities']\n",
    "        hashtags = entities['hashtags']\n",
    "        user_mentions = entities['user_mentions']\n",
    "    except KeyError:\n",
    "        continue\n",
    "    for hashtag in hashtags:\n",
    "        try:\n",
    "            hashtag = hashtag['text']\n",
    "            date = ln['created_at']\n",
    "            #date = date.split()\n",
    "            date = str(date)#str(months[date[1]])+str(date[2])+'18_'+str(date[3])\n",
    "            favorite_count = ln['favorite_count']\n",
    "            user = ln['user']\n",
    "            followers = user['followers_count']\n",
    "            username = user['screen_name']\n",
    "            location = user['location']\n",
    "            txt = ln['text'].replace('\\n','')\n",
    "            fout.write(date + '\\t' + str(favorite_count)+','+str(followers)+',\"'+str(username)+'\",\"'+str(location)+'\",\"'+str(txt)+'\"\\n')\n",
    "        except UnicodeEncodeError:#.encode('utf-8')\n",
    "            continue\n",
    "fout.close()"
   ]
  },
  {
   "cell_type": "code",
   "execution_count": 122,
   "metadata": {
    "collapsed": true,
    "deletable": true,
    "editable": true
   },
   "outputs": [],
   "source": [
    "df = pd.read_csv('tmp.dat',error_bad_lines=False,header=None,names=\\\n",
    "                 ['date','followers','username','location','tweet'],\\\n",
    "                 delimiter=',',index_col=False)#,encoding='utf-8'\n",
    "df.shape[0]\n",
    "df.drop_duplicates(inplace=True)"
   ]
  },
  {
   "cell_type": "code",
   "execution_count": 123,
   "metadata": {
    "collapsed": true,
    "deletable": true,
    "editable": true
   },
   "outputs": [],
   "source": [
    "rm_duplicates = True\n",
    "if rm_duplicates == False:\n",
    "    df['rt'] = df['tweet'].str.split(':', expand=True).ix[:,0]\n",
    "    df.drop_duplicates(subset=['rt'], keep='first',inplace=True)\n",
    "    df.rt.head()\n",
    "    df.shape[0]"
   ]
  },
  {
   "cell_type": "code",
   "execution_count": 124,
   "metadata": {
    "collapsed": false,
    "deletable": true,
    "editable": true
   },
   "outputs": [
    {
     "data": {
      "text/plain": [
       "1689"
      ]
     },
     "execution_count": 124,
     "metadata": {},
     "output_type": "execute_result"
    }
   ],
   "source": [
    "df.shape[0]"
   ]
  },
  {
   "cell_type": "code",
   "execution_count": 125,
   "metadata": {
    "collapsed": false,
    "deletable": true,
    "editable": true
   },
   "outputs": [
    {
     "data": {
      "text/html": [
       "<div>\n",
       "<style scoped>\n",
       "    .dataframe tbody tr th:only-of-type {\n",
       "        vertical-align: middle;\n",
       "    }\n",
       "\n",
       "    .dataframe tbody tr th {\n",
       "        vertical-align: top;\n",
       "    }\n",
       "\n",
       "    .dataframe thead th {\n",
       "        text-align: right;\n",
       "    }\n",
       "</style>\n",
       "<table border=\"1\" class=\"dataframe\">\n",
       "  <thead>\n",
       "    <tr style=\"text-align: right;\">\n",
       "      <th></th>\n",
       "      <th>date</th>\n",
       "      <th>followers</th>\n",
       "      <th>username</th>\n",
       "      <th>location</th>\n",
       "      <th>tweet</th>\n",
       "    </tr>\n",
       "  </thead>\n",
       "  <tbody>\n",
       "    <tr>\n",
       "      <th>0</th>\n",
       "      <td>Fri Aug 10 08:07:44 +0000 2018\\t0</td>\n",
       "      <td>7</td>\n",
       "      <td>Vigoursoftinc</td>\n",
       "      <td>Pune, India</td>\n",
       "      <td>The 30 Technologies Of The Next Decade#AI #Art...</td>\n",
       "    </tr>\n",
       "    <tr>\n",
       "      <th>7</th>\n",
       "      <td>Fri Aug 10 13:48:26 +0000 2018\\t0</td>\n",
       "      <td>11050</td>\n",
       "      <td>ristori20</td>\n",
       "      <td>Brussels</td>\n",
       "      <td>RT @esa: Getting smart in space - an overview ...</td>\n",
       "    </tr>\n",
       "    <tr>\n",
       "      <th>9</th>\n",
       "      <td>Mon Aug 13 01:56:19 +0000 2018\\t0</td>\n",
       "      <td>259</td>\n",
       "      <td>SanjayNursing</td>\n",
       "      <td>Manchester, England</td>\n",
       "      <td>RT @IainLJBrown: Career in Data Science catche...</td>\n",
       "    </tr>\n",
       "    <tr>\n",
       "      <th>15</th>\n",
       "      <td>Sat Aug 11 00:58:07 +0000 2018\\t0</td>\n",
       "      <td>1309</td>\n",
       "      <td>Nicolaie31</td>\n",
       "      <td>Sfântu Gheorghe, România</td>\n",
       "      <td>RT @MHiesboeck: This #robot can #fly a @Boeing...</td>\n",
       "    </tr>\n",
       "    <tr>\n",
       "      <th>29</th>\n",
       "      <td>Sat Aug 11 07:26:45 +0000 2018\\t0</td>\n",
       "      <td>23480</td>\n",
       "      <td>SStavrinoudakis</td>\n",
       "      <td>Athens, Greece</td>\n",
       "      <td>RT @tala201677: The General Is a #Robot: #Arti...</td>\n",
       "    </tr>\n",
       "    <tr>\n",
       "      <th>31</th>\n",
       "      <td>Sat Aug 11 13:06:00 +0000 2018\\t0</td>\n",
       "      <td>244</td>\n",
       "      <td>KickstartNews</td>\n",
       "      <td>None</td>\n",
       "      <td>RT @afigueiredo: Using machine learning to unl...</td>\n",
       "    </tr>\n",
       "    <tr>\n",
       "      <th>34</th>\n",
       "      <td>Sat Aug 11 22:00:02 +0000 2018\\t0</td>\n",
       "      <td>766</td>\n",
       "      <td>cbunton</td>\n",
       "      <td>San Jose, CA</td>\n",
       "      <td>Here's some food for thought. Our #NVIDIAJetso...</td>\n",
       "    </tr>\n",
       "    <tr>\n",
       "      <th>36</th>\n",
       "      <td>Sun Aug 12 14:29:18 +0000 2018\\t0</td>\n",
       "      <td>3376</td>\n",
       "      <td>StuartSimon</td>\n",
       "      <td>Venezuela</td>\n",
       "      <td>RT @kashthefuturist: Usain Bolt's winning stra...</td>\n",
       "    </tr>\n",
       "    <tr>\n",
       "      <th>42</th>\n",
       "      <td>Sun Aug 12 18:58:39 +0000 2018\\t0</td>\n",
       "      <td>4070</td>\n",
       "      <td>MClarkSEO</td>\n",
       "      <td>Nashville, Tennessee</td>\n",
       "      <td>RT @MikeQuindazzi: #deeplearning that learns l...</td>\n",
       "    </tr>\n",
       "    <tr>\n",
       "      <th>57</th>\n",
       "      <td>Sun Aug 12 19:23:46 +0000 2018\\t0</td>\n",
       "      <td>2515</td>\n",
       "      <td>machinelearn_d</td>\n",
       "      <td>The Earth</td>\n",
       "      <td>RT @BigBetAnalytics: Applications of #Artifici...</td>\n",
       "    </tr>\n",
       "    <tr>\n",
       "      <th>59</th>\n",
       "      <td>Thu Aug 09 08:15:00 +0000 2018\\t0</td>\n",
       "      <td>4812</td>\n",
       "      <td>Twinybots</td>\n",
       "      <td>Genève, Suisse</td>\n",
       "      <td>RT @MHiesboeck: 🔴 #ArtificialIntelligence Is C...</td>\n",
       "    </tr>\n",
       "    <tr>\n",
       "      <th>62</th>\n",
       "      <td>Thu Aug 09 11:21:18 +0000 2018\\t0</td>\n",
       "      <td>57138</td>\n",
       "      <td>machinelearnflx</td>\n",
       "      <td>None</td>\n",
       "      <td>RT @Ronald_vanLoon: #DeepLearning - A Non-Tech...</td>\n",
       "    </tr>\n",
       "    <tr>\n",
       "      <th>64</th>\n",
       "      <td>Thu Aug 09 15:23:27 +0000 2018\\t0</td>\n",
       "      <td>536</td>\n",
       "      <td>cyainz</td>\n",
       "      <td>Worldwide</td>\n",
       "      <td>RT @nschaetti: Virginia #Tech Researcher Recei...</td>\n",
       "    </tr>\n",
       "    <tr>\n",
       "      <th>72</th>\n",
       "      <td>Thu Aug 09 15:55:01 +0000 2018\\t0</td>\n",
       "      <td>1792</td>\n",
       "      <td>iivanov482</td>\n",
       "      <td>None</td>\n",
       "      <td>RT @evankirstel: #Artificialintelligence will ...</td>\n",
       "    </tr>\n",
       "    <tr>\n",
       "      <th>75</th>\n",
       "      <td>Thu Aug 09 17:13:36 +0000 2018\\t0</td>\n",
       "      <td>2093</td>\n",
       "      <td>jamilouazzani</td>\n",
       "      <td>Italia</td>\n",
       "      <td>RT @DeepLearn007: What Is Deep Learning? Every...</td>\n",
       "    </tr>\n",
       "    <tr>\n",
       "      <th>87</th>\n",
       "      <td>Thu Aug 09 19:42:14 +0000 2018\\t0</td>\n",
       "      <td>7654</td>\n",
       "      <td>NtechYel</td>\n",
       "      <td>Boston, MA</td>\n",
       "      <td>RT @NtechYel: How #ArtificialIntelligence &amp;amp...</td>\n",
       "    </tr>\n",
       "    <tr>\n",
       "      <th>99</th>\n",
       "      <td>Tue Aug 14 09:06:41 +0000 2018\\t0</td>\n",
       "      <td>1168</td>\n",
       "      <td>yechteconsult</td>\n",
       "      <td>UK | Belgium | India</td>\n",
       "      <td>RT @WebSurfology: #AI can help make #medicatio...</td>\n",
       "    </tr>\n",
       "    <tr>\n",
       "      <th>106</th>\n",
       "      <td>Tue Aug 14 11:10:43 +0000 2018\\t0</td>\n",
       "      <td>22</td>\n",
       "      <td>_Portiri_</td>\n",
       "      <td>None</td>\n",
       "      <td>RT @MikeQuindazzi: #AI predicts recipes from  ...</td>\n",
       "    </tr>\n",
       "    <tr>\n",
       "      <th>111</th>\n",
       "      <td>Tue Aug 14 18:53:00 +0000 2018\\t0</td>\n",
       "      <td>133</td>\n",
       "      <td>ORAMBoston</td>\n",
       "      <td>Boston, MA</td>\n",
       "      <td>How Your #MachineLearning Projects Will Achiev...</td>\n",
       "    </tr>\n",
       "    <tr>\n",
       "      <th>112</th>\n",
       "      <td>Tue Aug 14 21:59:59 +0000 2018\\t0</td>\n",
       "      <td>814</td>\n",
       "      <td>kunkelast</td>\n",
       "      <td>New Jersey</td>\n",
       "      <td>RT @CourseInwood: Data Science, Deep Learning,...</td>\n",
       "    </tr>\n",
       "    <tr>\n",
       "      <th>114</th>\n",
       "      <td>Wed Aug 15 03:46:35 +0000 2018\\t0</td>\n",
       "      <td>198</td>\n",
       "      <td>Spigelman</td>\n",
       "      <td>Tucson, Arizona</td>\n",
       "      <td>RT @stevesurf: A must read issue, w @amazon in...</td>\n",
       "    </tr>\n",
       "    <tr>\n",
       "      <th>115</th>\n",
       "      <td>Fri Aug 10 10:10:23 +0000 2018\\t0</td>\n",
       "      <td>185</td>\n",
       "      <td>baldseagulls</td>\n",
       "      <td>not the kremlin</td>\n",
       "      <td>RT @iwebpromotion: The Future of #ArtificialIn...</td>\n",
       "    </tr>\n",
       "    <tr>\n",
       "      <th>116</th>\n",
       "      <td>Fri Aug 10 12:55:08 +0000 2018\\t0</td>\n",
       "      <td>3621</td>\n",
       "      <td>silgasa</td>\n",
       "      <td>Dublin City, Ireland</td>\n",
       "      <td>#MachineLearning — Many misuse it and predict ...</td>\n",
       "    </tr>\n",
       "    <tr>\n",
       "      <th>117</th>\n",
       "      <td>Fri Aug 10 17:25:08 +0000 2018\\t0</td>\n",
       "      <td>105</td>\n",
       "      <td>AAndrewAlliance</td>\n",
       "      <td>Geneva, Switzerland</td>\n",
       "      <td>#AI and #machinelearning can be used to advanc...</td>\n",
       "    </tr>\n",
       "    <tr>\n",
       "      <th>120</th>\n",
       "      <td>Fri Aug 10 17:55:34 +0000 2018\\t0</td>\n",
       "      <td>46</td>\n",
       "      <td>futureBob1999</td>\n",
       "      <td>None</td>\n",
       "      <td>The latest The Future Technologies Daily! http...</td>\n",
       "    </tr>\n",
       "  </tbody>\n",
       "</table>\n",
       "</div>"
      ],
      "text/plain": [
       "                                  date  followers         username  \\\n",
       "0    Fri Aug 10 08:07:44 +0000 2018\\t0          7    Vigoursoftinc   \n",
       "7    Fri Aug 10 13:48:26 +0000 2018\\t0      11050        ristori20   \n",
       "9    Mon Aug 13 01:56:19 +0000 2018\\t0        259    SanjayNursing   \n",
       "15   Sat Aug 11 00:58:07 +0000 2018\\t0       1309       Nicolaie31   \n",
       "29   Sat Aug 11 07:26:45 +0000 2018\\t0      23480  SStavrinoudakis   \n",
       "31   Sat Aug 11 13:06:00 +0000 2018\\t0        244    KickstartNews   \n",
       "34   Sat Aug 11 22:00:02 +0000 2018\\t0        766          cbunton   \n",
       "36   Sun Aug 12 14:29:18 +0000 2018\\t0       3376      StuartSimon   \n",
       "42   Sun Aug 12 18:58:39 +0000 2018\\t0       4070        MClarkSEO   \n",
       "57   Sun Aug 12 19:23:46 +0000 2018\\t0       2515   machinelearn_d   \n",
       "59   Thu Aug 09 08:15:00 +0000 2018\\t0       4812        Twinybots   \n",
       "62   Thu Aug 09 11:21:18 +0000 2018\\t0      57138  machinelearnflx   \n",
       "64   Thu Aug 09 15:23:27 +0000 2018\\t0        536           cyainz   \n",
       "72   Thu Aug 09 15:55:01 +0000 2018\\t0       1792       iivanov482   \n",
       "75   Thu Aug 09 17:13:36 +0000 2018\\t0       2093    jamilouazzani   \n",
       "87   Thu Aug 09 19:42:14 +0000 2018\\t0       7654         NtechYel   \n",
       "99   Tue Aug 14 09:06:41 +0000 2018\\t0       1168    yechteconsult   \n",
       "106  Tue Aug 14 11:10:43 +0000 2018\\t0         22        _Portiri_   \n",
       "111  Tue Aug 14 18:53:00 +0000 2018\\t0        133       ORAMBoston   \n",
       "112  Tue Aug 14 21:59:59 +0000 2018\\t0        814        kunkelast   \n",
       "114  Wed Aug 15 03:46:35 +0000 2018\\t0        198        Spigelman   \n",
       "115  Fri Aug 10 10:10:23 +0000 2018\\t0        185     baldseagulls   \n",
       "116  Fri Aug 10 12:55:08 +0000 2018\\t0       3621          silgasa   \n",
       "117  Fri Aug 10 17:25:08 +0000 2018\\t0        105  AAndrewAlliance   \n",
       "120  Fri Aug 10 17:55:34 +0000 2018\\t0         46    futureBob1999   \n",
       "\n",
       "                     location  \\\n",
       "0                 Pune, India   \n",
       "7                    Brussels   \n",
       "9         Manchester, England   \n",
       "15   Sfântu Gheorghe, România   \n",
       "29             Athens, Greece   \n",
       "31                       None   \n",
       "34               San Jose, CA   \n",
       "36                  Venezuela   \n",
       "42       Nashville, Tennessee   \n",
       "57                  The Earth   \n",
       "59             Genève, Suisse   \n",
       "62                       None   \n",
       "64                  Worldwide   \n",
       "72                       None   \n",
       "75                     Italia   \n",
       "87                 Boston, MA   \n",
       "99       UK | Belgium | India   \n",
       "106                      None   \n",
       "111                Boston, MA   \n",
       "112                New Jersey   \n",
       "114           Tucson, Arizona   \n",
       "115           not the kremlin   \n",
       "116      Dublin City, Ireland   \n",
       "117       Geneva, Switzerland   \n",
       "120                      None   \n",
       "\n",
       "                                                 tweet  \n",
       "0    The 30 Technologies Of The Next Decade#AI #Art...  \n",
       "7    RT @esa: Getting smart in space - an overview ...  \n",
       "9    RT @IainLJBrown: Career in Data Science catche...  \n",
       "15   RT @MHiesboeck: This #robot can #fly a @Boeing...  \n",
       "29   RT @tala201677: The General Is a #Robot: #Arti...  \n",
       "31   RT @afigueiredo: Using machine learning to unl...  \n",
       "34   Here's some food for thought. Our #NVIDIAJetso...  \n",
       "36   RT @kashthefuturist: Usain Bolt's winning stra...  \n",
       "42   RT @MikeQuindazzi: #deeplearning that learns l...  \n",
       "57   RT @BigBetAnalytics: Applications of #Artifici...  \n",
       "59   RT @MHiesboeck: 🔴 #ArtificialIntelligence Is C...  \n",
       "62   RT @Ronald_vanLoon: #DeepLearning - A Non-Tech...  \n",
       "64   RT @nschaetti: Virginia #Tech Researcher Recei...  \n",
       "72   RT @evankirstel: #Artificialintelligence will ...  \n",
       "75   RT @DeepLearn007: What Is Deep Learning? Every...  \n",
       "87   RT @NtechYel: How #ArtificialIntelligence &amp...  \n",
       "99   RT @WebSurfology: #AI can help make #medicatio...  \n",
       "106  RT @MikeQuindazzi: #AI predicts recipes from  ...  \n",
       "111  How Your #MachineLearning Projects Will Achiev...  \n",
       "112  RT @CourseInwood: Data Science, Deep Learning,...  \n",
       "114  RT @stevesurf: A must read issue, w @amazon in...  \n",
       "115  RT @iwebpromotion: The Future of #ArtificialIn...  \n",
       "116  #MachineLearning — Many misuse it and predict ...  \n",
       "117  #AI and #machinelearning can be used to advanc...  \n",
       "120  The latest The Future Technologies Daily! http...  "
      ]
     },
     "execution_count": 125,
     "metadata": {},
     "output_type": "execute_result"
    }
   ],
   "source": [
    "df.head(25)"
   ]
  },
  {
   "cell_type": "code",
   "execution_count": 126,
   "metadata": {
    "collapsed": false,
    "deletable": true,
    "editable": true
   },
   "outputs": [
    {
     "name": "stdout",
     "output_type": "stream",
     "text": [
      "1689\n"
     ]
    }
   ],
   "source": [
    "dates = list(df.date)\n",
    "cleanDates = []\n",
    "favs = []\n",
    "ct = 0\n",
    "for date in dates:\n",
    "    date = date.split('\\t')\n",
    "    try:\n",
    "      ts = time.strftime('%Y-%m-%d %H:%M:%S', time.strptime(date[0],'%a %b %d %H:%M:%S +0000 %Y'))\n",
    "      favs.append(int(date[1]))\n",
    "      cleanDates.append(ts)\n",
    "      ct+=1\n",
    "    except:\n",
    "      cleanDates.append(np.NaN)\n",
    "      favs.append(0)\n",
    "print(ct)\n",
    "favs.reverse()\n",
    "cleanDates.reverse()"
   ]
  },
  {
   "cell_type": "code",
   "execution_count": 127,
   "metadata": {
    "collapsed": false,
    "deletable": true,
    "editable": true
   },
   "outputs": [
    {
     "name": "stdout",
     "output_type": "stream",
     "text": [
      "1689\n"
     ]
    }
   ],
   "source": [
    "print (len(cleanDates))\n",
    "se = pd.Series(cleanDates)\n",
    "df.date = se.values"
   ]
  },
  {
   "cell_type": "code",
   "execution_count": 128,
   "metadata": {
    "collapsed": false,
    "deletable": true,
    "editable": true
   },
   "outputs": [
    {
     "name": "stderr",
     "output_type": "stream",
     "text": [
      "/usr/local/Cellar/python3/3.6.0/Frameworks/Python.framework/Versions/3.6/lib/python3.6/site-packages/ipykernel/__main__.py:8: UserWarning: Pandas doesn't allow columns to be created via a new attribute name - see https://pandas.pydata.org/pandas-docs/stable/indexing.html#attribute-access\n",
      "/usr/local/Cellar/python3/3.6.0/Frameworks/Python.framework/Versions/3.6/lib/python3.6/site-packages/ipykernel/__main__.py:8: UserWarning: Pandas doesn't allow columns to be created via a new attribute name - see https://pandas.pydata.org/pandas-docs/stable/indexing.html#attribute-access\n",
      "/usr/local/Cellar/python3/3.6.0/Frameworks/Python.framework/Versions/3.6/lib/python3.6/site-packages/ipykernel/__main__.py:8: UserWarning: Pandas doesn't allow columns to be created via a new attribute name - see https://pandas.pydata.org/pandas-docs/stable/indexing.html#attribute-access\n"
     ]
    }
   ],
   "source": [
    "'''\n",
    "*** Tweets often use popular hashtags with unrelated topics.\n",
    "*** Certain words can be used in order to filter such tweets.\n",
    "*** Enter these words below in the bad_terms list.\n",
    "'''\n",
    "bad_terms = ['cock','ManiKENniMonica','nudes']\n",
    "for i in range(len(bad_terms)):\n",
    "    df.bad = df['tweet'].str.lower().str.contains(bad_terms[i].lower())\n",
    "    df = df[df.bad == False]"
   ]
  },
  {
   "cell_type": "code",
   "execution_count": 129,
   "metadata": {
    "collapsed": false,
    "deletable": true,
    "editable": true
   },
   "outputs": [
    {
     "data": {
      "text/plain": [
       "1688"
      ]
     },
     "execution_count": 129,
     "metadata": {},
     "output_type": "execute_result"
    }
   ],
   "source": [
    "df.shape[0]"
   ]
  },
  {
   "cell_type": "code",
   "execution_count": null,
   "metadata": {
    "collapsed": true,
    "deletable": true,
    "editable": true
   },
   "outputs": [],
   "source": []
  },
  {
   "cell_type": "code",
   "execution_count": null,
   "metadata": {
    "collapsed": true
   },
   "outputs": [],
   "source": []
  },
  {
   "cell_type": "code",
   "execution_count": null,
   "metadata": {
    "collapsed": true,
    "deletable": true,
    "editable": true
   },
   "outputs": [],
   "source": []
  },
  {
   "cell_type": "markdown",
   "metadata": {
    "deletable": true,
    "editable": true
   },
   "source": [
    "## COUNTING HASHTAGS AND CO-OCCURANCE OF HASHTAGS"
   ]
  },
  {
   "cell_type": "code",
   "execution_count": 130,
   "metadata": {
    "collapsed": true,
    "deletable": true,
    "editable": true
   },
   "outputs": [],
   "source": [
    "tweets = list(df.tweet)"
   ]
  },
  {
   "cell_type": "code",
   "execution_count": 131,
   "metadata": {
    "collapsed": false,
    "deletable": true,
    "editable": true
   },
   "outputs": [
    {
     "name": "stdout",
     "output_type": "stream",
     "text": [
      "#DEEPLEARNING:   419\n",
      "#MACHINELEARNING:   1061\n",
      "#REINFORCEMENTLEARNING:   4\n",
      "#ARTIFICIALINTELLIGENCE:   592\n"
     ]
    }
   ],
   "source": [
    "hashtags = ['#deeplearning','#machinelearning','#reinforcementlearning','#artificialintelligence']\n",
    "for i, tag in enumerate(hashtags): hashtags[i] = tag.lower() \n",
    "counts = [0 for i in range(len(hashtags))]\n",
    "for tweet in tweets:\n",
    "    tweet = tweet.lower()\n",
    "    for i, tag in enumerate(hashtags):\n",
    "        if tag in tweet:\n",
    "            counts[i] += 1\n",
    "for i, tag in enumerate(hashtags):\n",
    "    print(tag.upper()+':   '+str(counts[i]))"
   ]
  },
  {
   "cell_type": "code",
   "execution_count": 132,
   "metadata": {
    "collapsed": false,
    "deletable": true,
    "editable": true
   },
   "outputs": [],
   "source": [
    "tcounts = deepcopy(counts)"
   ]
  },
  {
   "cell_type": "code",
   "execution_count": 133,
   "metadata": {
    "collapsed": false,
    "deletable": true,
    "editable": true
   },
   "outputs": [
    {
     "data": {
      "image/png": "[encoded data removed]",
      "text/plain": [
       "<Figure size 432x288 with 1 Axes>"
      ]
     },
     "metadata": {},
     "output_type": "display_data"
    }
   ],
   "source": [
    "plt.bar(hashtags,counts,color=['b','g','r','c','m','k','y'])\n",
    "plt.xticks(rotation='vertical')\n",
    "plt.title('Hashtag Frequency')\n",
    "plt.savefig('hashtag_frequency.png')\n",
    "plt.show()"
   ]
  },
  {
   "cell_type": "code",
   "execution_count": null,
   "metadata": {
    "collapsed": true,
    "deletable": true,
    "editable": true
   },
   "outputs": [],
   "source": []
  },
  {
   "cell_type": "code",
   "execution_count": null,
   "metadata": {
    "collapsed": true,
    "deletable": true,
    "editable": true
   },
   "outputs": [],
   "source": []
  },
  {
   "cell_type": "code",
   "execution_count": null,
   "metadata": {
    "collapsed": true,
    "deletable": true,
    "editable": true
   },
   "outputs": [],
   "source": []
  },
  {
   "cell_type": "markdown",
   "metadata": {
    "deletable": true,
    "editable": true
   },
   "source": [
    "## TOP HASHTAGS"
   ]
  },
  {
   "cell_type": "code",
   "execution_count": 67,
   "metadata": {
    "collapsed": false,
    "deletable": true,
    "editable": true
   },
   "outputs": [],
   "source": [
    "topHashtags = {}\n",
    "for tweet in tweets:\n",
    "    tweet = tweet.lower()\n",
    "    tweet = tweet.split(' ')\n",
    "    for word in tweet:\n",
    "        if len(word) == 0:\n",
    "            continue\n",
    "        if word[0] == '#':\n",
    "            try:\n",
    "                topHashtags[word] += 1\n",
    "            except:\n",
    "                topHashtags[word] = 1\n",
    "sorted_by_value = sorted(topHashtags.items(), key=lambda kv: kv[1])\n",
    "#print(sorted_by_value)"
   ]
  },
  {
   "cell_type": "code",
   "execution_count": 68,
   "metadata": {
    "collapsed": false,
    "deletable": true,
    "editable": true
   },
   "outputs": [],
   "source": [
    "def plotNhashtags(d,n):\n",
    "    d = dict(d)\n",
    "    dkeys = [d.keys()]\n",
    "    dkeys = list(dkeys[0])\n",
    "    dvals = [d.values()]\n",
    "    dvals = list(dvals[0])\n",
    "    #print(list(dkeys[0]))\n",
    "    print (dvals[-n:])\n",
    "    plt.bar(dkeys[-n:],dvals[-n:],color=['r','g','c','m','b','k'])\n",
    "    plt.xticks(rotation='vertical')\n",
    "    plt.show()"
   ]
  },
  {
   "cell_type": "code",
   "execution_count": 71,
   "metadata": {
    "collapsed": false,
    "deletable": true,
    "editable": true
   },
   "outputs": [
    {
     "name": "stdout",
     "output_type": "stream",
     "text": [
      "[627, 898, 1003, 1593, 1762, 2363, 3240, 5145, 6188, 8425]\n"
     ]
    },
    {
     "data": {
      "image/png": "[encoded data removed]",
      "text/plain": [
       "<Figure size 432x288 with 1 Axes>"
      ]
     },
     "metadata": {},
     "output_type": "display_data"
    }
   ],
   "source": [
    "NUMBER_OF_TOP_HASHTAGS = 10\n",
    "plotNhashtags(sorted_by_value,NUMBER_OF_TOP_HASHTAGS)"
   ]
  },
  {
   "cell_type": "markdown",
   "metadata": {
    "deletable": true,
    "editable": true
   },
   "source": [
    "## SORT BY DATE"
   ]
  },
  {
   "cell_type": "code",
   "execution_count": 72,
   "metadata": {
    "collapsed": false,
    "deletable": true,
    "editable": true
   },
   "outputs": [
    {
     "data": {
      "text/html": [
       "<div>\n",
       "<style scoped>\n",
       "    .dataframe tbody tr th:only-of-type {\n",
       "        vertical-align: middle;\n",
       "    }\n",
       "\n",
       "    .dataframe tbody tr th {\n",
       "        vertical-align: top;\n",
       "    }\n",
       "\n",
       "    .dataframe thead th {\n",
       "        text-align: right;\n",
       "    }\n",
       "</style>\n",
       "<table border=\"1\" class=\"dataframe\">\n",
       "  <thead>\n",
       "    <tr style=\"text-align: right;\">\n",
       "      <th></th>\n",
       "      <th>date</th>\n",
       "      <th>followers</th>\n",
       "      <th>username</th>\n",
       "      <th>location</th>\n",
       "      <th>tweet</th>\n",
       "    </tr>\n",
       "  </thead>\n",
       "  <tbody>\n",
       "    <tr>\n",
       "      <th>4383</th>\n",
       "      <td>2018-08-08 21:49:09</td>\n",
       "      <td>188</td>\n",
       "      <td>CGRIIorg</td>\n",
       "      <td>Global</td>\n",
       "      <td>An interesting proposition from #Google. #Arti...</td>\n",
       "    </tr>\n",
       "    <tr>\n",
       "      <th>5969</th>\n",
       "      <td>2018-08-08 21:55:29</td>\n",
       "      <td>333</td>\n",
       "      <td>Vish_Kanumilli</td>\n",
       "      <td>England, United Kingdom</td>\n",
       "      <td>RT @IainLJBrown: 92% Of AI Leaders Now Trainin...</td>\n",
       "    </tr>\n",
       "    <tr>\n",
       "      <th>4962</th>\n",
       "      <td>2018-08-08 22:04:47</td>\n",
       "      <td>9753</td>\n",
       "      <td>ProcurementPros</td>\n",
       "      <td>Pittsburgh, PA</td>\n",
       "      <td>RT @mvollmer1: Artificial intelligence and Mac...</td>\n",
       "    </tr>\n",
       "    <tr>\n",
       "      <th>6382</th>\n",
       "      <td>2018-08-08 22:05:44</td>\n",
       "      <td>29</td>\n",
       "      <td>nomiiguruchiku</td>\n",
       "      <td>Tukwila, WA</td>\n",
       "      <td>Facebook is racing to build Africa’s internet ...</td>\n",
       "    </tr>\n",
       "    <tr>\n",
       "      <th>4650</th>\n",
       "      <td>2018-08-08 22:08:27</td>\n",
       "      <td>4686</td>\n",
       "      <td>machinelearn_d</td>\n",
       "      <td>The Earth</td>\n",
       "      <td>RT @danielcfng: Amr @Awadallah Founder and #CT...</td>\n",
       "    </tr>\n",
       "    <tr>\n",
       "      <th>4646</th>\n",
       "      <td>2018-08-08 22:15:01</td>\n",
       "      <td>1946</td>\n",
       "      <td>D3pak</td>\n",
       "      <td>Internet</td>\n",
       "      <td>Amazon CEO Jeff Bezos says AI, ML, robots  won...</td>\n",
       "    </tr>\n",
       "    <tr>\n",
       "      <th>4634</th>\n",
       "      <td>2018-08-08 22:34:06</td>\n",
       "      <td>54379</td>\n",
       "      <td>pierrepinna</td>\n",
       "      <td>Marseille, France</td>\n",
       "      <td>RT @andi_staub: Quick guide to understand the ...</td>\n",
       "    </tr>\n",
       "    <tr>\n",
       "      <th>4850</th>\n",
       "      <td>2018-08-08 22:35:07</td>\n",
       "      <td>29</td>\n",
       "      <td>ReliableIOC</td>\n",
       "      <td>None</td>\n",
       "      <td>Inspecting Decision Trees in H2O https://t.co/...</td>\n",
       "    </tr>\n",
       "    <tr>\n",
       "      <th>6547</th>\n",
       "      <td>2018-08-08 23:19:01</td>\n",
       "      <td>3840</td>\n",
       "      <td>iot_base</td>\n",
       "      <td>Washington, DC</td>\n",
       "      <td>RT @WiproDigital: Here are the top 10 #AI tren...</td>\n",
       "    </tr>\n",
       "    <tr>\n",
       "      <th>6777</th>\n",
       "      <td>2018-08-08 23:19:07</td>\n",
       "      <td>1634</td>\n",
       "      <td>effendi23_</td>\n",
       "      <td>Jakarta, Indonesia</td>\n",
       "      <td>RT @lawtest_ee: What do you know about office ...</td>\n",
       "    </tr>\n",
       "    <tr>\n",
       "      <th>4470</th>\n",
       "      <td>2018-08-08 23:47:29</td>\n",
       "      <td>4393</td>\n",
       "      <td>HubBucket</td>\n",
       "      <td>New York, NY</td>\n",
       "      <td>🥇The NEXT FRONTIER of #Supercomputing lies in ...</td>\n",
       "    </tr>\n",
       "    <tr>\n",
       "      <th>4327</th>\n",
       "      <td>2018-08-09 00:09:00</td>\n",
       "      <td>217</td>\n",
       "      <td>hamiltonsmith18</td>\n",
       "      <td>None</td>\n",
       "      <td>RT @tussyadiah: Global Risks Report 2017 - Rep...</td>\n",
       "    </tr>\n",
       "    <tr>\n",
       "      <th>4165</th>\n",
       "      <td>2018-08-09 00:30:00</td>\n",
       "      <td>189</td>\n",
       "      <td>andresgs77</td>\n",
       "      <td>Madrid</td>\n",
       "      <td>RT @josemanuelgp: Check out where #KnowledgeGr...</td>\n",
       "    </tr>\n",
       "    <tr>\n",
       "      <th>5646</th>\n",
       "      <td>2018-08-09 00:34:53</td>\n",
       "      <td>28</td>\n",
       "      <td>Sergeyxx1</td>\n",
       "      <td>None</td>\n",
       "      <td>📈 2,000 EVOT #CONTEST &amp;amp; #BOUNTY 📈#Artifici...</td>\n",
       "    </tr>\n",
       "    <tr>\n",
       "      <th>6059</th>\n",
       "      <td>2018-08-09 00:48:02</td>\n",
       "      <td>981</td>\n",
       "      <td>PrakashSapkota</td>\n",
       "      <td>Kathmandu</td>\n",
       "      <td>RT @gp_pulipaka: Anatomy of an AI System. #Big...</td>\n",
       "    </tr>\n",
       "    <tr>\n",
       "      <th>4777</th>\n",
       "      <td>2018-08-09 01:08:25</td>\n",
       "      <td>883</td>\n",
       "      <td>QueryonlineNL</td>\n",
       "      <td>None</td>\n",
       "      <td>RT @ciserban: #MachineLearning  hits explainab...</td>\n",
       "    </tr>\n",
       "    <tr>\n",
       "      <th>4489</th>\n",
       "      <td>2018-08-09 01:40:30</td>\n",
       "      <td>2981</td>\n",
       "      <td>BTLyng</td>\n",
       "      <td>None</td>\n",
       "      <td>RT @GrowUrStartup: Top #AI use-cases by #busin...</td>\n",
       "    </tr>\n",
       "    <tr>\n",
       "      <th>4110</th>\n",
       "      <td>2018-08-09 01:52:18</td>\n",
       "      <td>924</td>\n",
       "      <td>VacoSeattle</td>\n",
       "      <td>Seattle</td>\n",
       "      <td>The latest Tech Talk! https://t.co/LSlM2g4KKM ...</td>\n",
       "    </tr>\n",
       "    <tr>\n",
       "      <th>3831</th>\n",
       "      <td>2018-08-09 02:20:35</td>\n",
       "      <td>103</td>\n",
       "      <td>SchreiberCJ</td>\n",
       "      <td>Bellevue, WA</td>\n",
       "      <td>RT @bobehayes: 9 #AI trends on our radar @orei...</td>\n",
       "    </tr>\n",
       "    <tr>\n",
       "      <th>5400</th>\n",
       "      <td>2018-08-09 02:58:41</td>\n",
       "      <td>124218</td>\n",
       "      <td>iMariaJohnsen</td>\n",
       "      <td>None</td>\n",
       "      <td>Smart Home For All! 🏡🌳🤖#ArtificialIntelligence...</td>\n",
       "    </tr>\n",
       "    <tr>\n",
       "      <th>4692</th>\n",
       "      <td>2018-08-09 03:01:27</td>\n",
       "      <td>1927</td>\n",
       "      <td>godfrey_rono</td>\n",
       "      <td>Eldoret, Kenya</td>\n",
       "      <td>RT @godfrey_rono: This Gorilla #robot  looks t...</td>\n",
       "    </tr>\n",
       "    <tr>\n",
       "      <th>6442</th>\n",
       "      <td>2018-08-09 03:18:57</td>\n",
       "      <td>60122</td>\n",
       "      <td>machinelearnflx</td>\n",
       "      <td>None</td>\n",
       "      <td>RT @KirkDBorne: #Python #DeepLearning tutorial...</td>\n",
       "    </tr>\n",
       "    <tr>\n",
       "      <th>6054</th>\n",
       "      <td>2018-08-09 03:36:00</td>\n",
       "      <td>1972</td>\n",
       "      <td>Affiliyfuture1</td>\n",
       "      <td>United Kingdom</td>\n",
       "      <td>RT @eraser: RT @rajat_shrimalAnother robot tha...</td>\n",
       "    </tr>\n",
       "    <tr>\n",
       "      <th>3881</th>\n",
       "      <td>2018-08-09 03:50:23</td>\n",
       "      <td>3276</td>\n",
       "      <td>SantchiWeb</td>\n",
       "      <td>Wirral</td>\n",
       "      <td>RT @Robots_and_AIs: RT @TechNative Applying #M...</td>\n",
       "    </tr>\n",
       "    <tr>\n",
       "      <th>6048</th>\n",
       "      <td>2018-08-09 03:59:19</td>\n",
       "      <td>26876</td>\n",
       "      <td>javascriptd</td>\n",
       "      <td>Everywhere</td>\n",
       "      <td>RT @gp_pulipaka: What If... You Could Inspect ...</td>\n",
       "    </tr>\n",
       "  </tbody>\n",
       "</table>\n",
       "</div>"
      ],
      "text/plain": [
       "                    date  followers         username                 location  \\\n",
       "4383 2018-08-08 21:49:09        188         CGRIIorg                   Global   \n",
       "5969 2018-08-08 21:55:29        333   Vish_Kanumilli  England, United Kingdom   \n",
       "4962 2018-08-08 22:04:47       9753  ProcurementPros           Pittsburgh, PA   \n",
       "6382 2018-08-08 22:05:44         29   nomiiguruchiku              Tukwila, WA   \n",
       "4650 2018-08-08 22:08:27       4686   machinelearn_d                The Earth   \n",
       "4646 2018-08-08 22:15:01       1946            D3pak                 Internet   \n",
       "4634 2018-08-08 22:34:06      54379      pierrepinna        Marseille, France   \n",
       "4850 2018-08-08 22:35:07         29      ReliableIOC                     None   \n",
       "6547 2018-08-08 23:19:01       3840         iot_base           Washington, DC   \n",
       "6777 2018-08-08 23:19:07       1634       effendi23_       Jakarta, Indonesia   \n",
       "4470 2018-08-08 23:47:29       4393        HubBucket             New York, NY   \n",
       "4327 2018-08-09 00:09:00        217  hamiltonsmith18                     None   \n",
       "4165 2018-08-09 00:30:00        189       andresgs77                   Madrid   \n",
       "5646 2018-08-09 00:34:53         28        Sergeyxx1                     None   \n",
       "6059 2018-08-09 00:48:02        981   PrakashSapkota                Kathmandu   \n",
       "4777 2018-08-09 01:08:25        883    QueryonlineNL                     None   \n",
       "4489 2018-08-09 01:40:30       2981           BTLyng                     None   \n",
       "4110 2018-08-09 01:52:18        924      VacoSeattle                  Seattle   \n",
       "3831 2018-08-09 02:20:35        103      SchreiberCJ             Bellevue, WA   \n",
       "5400 2018-08-09 02:58:41     124218    iMariaJohnsen                     None   \n",
       "4692 2018-08-09 03:01:27       1927     godfrey_rono           Eldoret, Kenya   \n",
       "6442 2018-08-09 03:18:57      60122  machinelearnflx                     None   \n",
       "6054 2018-08-09 03:36:00       1972   Affiliyfuture1           United Kingdom   \n",
       "3881 2018-08-09 03:50:23       3276       SantchiWeb                   Wirral   \n",
       "6048 2018-08-09 03:59:19      26876      javascriptd              Everywhere    \n",
       "\n",
       "                                                  tweet  \n",
       "4383  An interesting proposition from #Google. #Arti...  \n",
       "5969  RT @IainLJBrown: 92% Of AI Leaders Now Trainin...  \n",
       "4962  RT @mvollmer1: Artificial intelligence and Mac...  \n",
       "6382  Facebook is racing to build Africa’s internet ...  \n",
       "4650  RT @danielcfng: Amr @Awadallah Founder and #CT...  \n",
       "4646  Amazon CEO Jeff Bezos says AI, ML, robots  won...  \n",
       "4634  RT @andi_staub: Quick guide to understand the ...  \n",
       "4850  Inspecting Decision Trees in H2O https://t.co/...  \n",
       "6547  RT @WiproDigital: Here are the top 10 #AI tren...  \n",
       "6777  RT @lawtest_ee: What do you know about office ...  \n",
       "4470  🥇The NEXT FRONTIER of #Supercomputing lies in ...  \n",
       "4327  RT @tussyadiah: Global Risks Report 2017 - Rep...  \n",
       "4165  RT @josemanuelgp: Check out where #KnowledgeGr...  \n",
       "5646  📈 2,000 EVOT #CONTEST &amp; #BOUNTY 📈#Artifici...  \n",
       "6059  RT @gp_pulipaka: Anatomy of an AI System. #Big...  \n",
       "4777  RT @ciserban: #MachineLearning  hits explainab...  \n",
       "4489  RT @GrowUrStartup: Top #AI use-cases by #busin...  \n",
       "4110  The latest Tech Talk! https://t.co/LSlM2g4KKM ...  \n",
       "3831  RT @bobehayes: 9 #AI trends on our radar @orei...  \n",
       "5400  Smart Home For All! 🏡🌳🤖#ArtificialIntelligence...  \n",
       "4692  RT @godfrey_rono: This Gorilla #robot  looks t...  \n",
       "6442  RT @KirkDBorne: #Python #DeepLearning tutorial...  \n",
       "6054  RT @eraser: RT @rajat_shrimalAnother robot tha...  \n",
       "3881  RT @Robots_and_AIs: RT @TechNative Applying #M...  \n",
       "6048  RT @gp_pulipaka: What If... You Could Inspect ...  "
      ]
     },
     "execution_count": 72,
     "metadata": {},
     "output_type": "execute_result"
    }
   ],
   "source": [
    "df['date'] = pd.to_datetime(df['date'])\n",
    "df.sort_values(by='date',ascending=True,inplace=True)\n",
    "df.head(25)"
   ]
  },
  {
   "cell_type": "code",
   "execution_count": 76,
   "metadata": {
    "collapsed": false,
    "deletable": true,
    "editable": true
   },
   "outputs": [
    {
     "name": "stdout",
     "output_type": "stream",
     "text": [
      "15632\n",
      "1784\n"
     ]
    }
   ],
   "source": [
    "ad_rollout = datetime.datetime(2018,12,31,23,59)\n",
    "before = df[df.date < ad_rollout]\n",
    "print(before.shape[0])\n",
    "after = df[df.date > ad_rollout]\n",
    "print(after.shape[0])\n",
    "btweets = list(before.tweet)\n",
    "atweets = list(after.tweet)"
   ]
  },
  {
   "cell_type": "code",
   "execution_count": 77,
   "metadata": {
    "collapsed": false,
    "deletable": true,
    "editable": true
   },
   "outputs": [
    {
     "name": "stdout",
     "output_type": "stream",
     "text": [
      "#DEEPLEARNING:   3590\n",
      "#MACHINELEARNING:   9073\n",
      "#REINFORCEMENTLEARNING:   53\n",
      "#ARTIFICIALINTELLIGENCE:   6154\n"
     ]
    }
   ],
   "source": [
    "for i, tag in enumerate(hashtags): hashtags[i] = tag.lower() \n",
    "bcounts = [0 for i in range(len(hashtags))]\n",
    "for tweet in btweets:\n",
    "    tweet = tweet.lower()\n",
    "    for i, tag in enumerate(hashtags):\n",
    "        if tag in tweet:\n",
    "            bcounts[i] += 1\n",
    "for i, tag in enumerate(hashtags):\n",
    "    print(tag.upper()+':   '+str(bcounts[i]))"
   ]
  },
  {
   "cell_type": "code",
   "execution_count": 78,
   "metadata": {
    "collapsed": false,
    "deletable": true,
    "editable": true
   },
   "outputs": [
    {
     "name": "stdout",
     "output_type": "stream",
     "text": [
      "#DEEPLEARNING:   392\n",
      "#MACHINELEARNING:   1083\n",
      "#REINFORCEMENTLEARNING:   8\n",
      "#ARTIFICIALINTELLIGENCE:   653\n"
     ]
    }
   ],
   "source": [
    "for i, tag in enumerate(hashtags): hashtags[i] = tag.lower() \n",
    "acounts = [0 for i in range(len(hashtags))]\n",
    "for tweet in atweets:\n",
    "    tweet = tweet.lower()\n",
    "    for i, tag in enumerate(hashtags):\n",
    "        if tag in tweet:\n",
    "            acounts[i] += 1\n",
    "for i, tag in enumerate(hashtags):\n",
    "    print(tag.upper()+':   '+str(acounts[i]))"
   ]
  },
  {
   "cell_type": "code",
   "execution_count": 79,
   "metadata": {
    "collapsed": false,
    "deletable": true,
    "editable": true
   },
   "outputs": [
    {
     "data": {
      "image/png": "[encoded data removed]",
      "text/plain": [
       "<Figure size 432x288 with 1 Axes>"
      ]
     },
     "metadata": {},
     "output_type": "display_data"
    }
   ],
   "source": [
    "plt.bar(hashtags,bcounts,color=['b','g','r','c','m','k','y'])\n",
    "plt.xticks(rotation='vertical')\n",
    "plt.show()"
   ]
  },
  {
   "cell_type": "code",
   "execution_count": 80,
   "metadata": {
    "collapsed": false,
    "deletable": true,
    "editable": true
   },
   "outputs": [
    {
     "data": {
      "image/png": "[encoded data removed]",
      "text/plain": [
       "<Figure size 432x288 with 1 Axes>"
      ]
     },
     "metadata": {},
     "output_type": "display_data"
    }
   ],
   "source": [
    "plt.bar(hashtags,acounts,color=['b','g','r','c','m','k','y'])\n",
    "plt.xticks(rotation='vertical')\n",
    "plt.show()"
   ]
  },
  {
   "cell_type": "code",
   "execution_count": null,
   "metadata": {
    "collapsed": true,
    "deletable": true,
    "editable": true
   },
   "outputs": [],
   "source": []
  },
  {
   "cell_type": "code",
   "execution_count": null,
   "metadata": {
    "collapsed": true,
    "deletable": true,
    "editable": true
   },
   "outputs": [],
   "source": []
  },
  {
   "cell_type": "code",
   "execution_count": null,
   "metadata": {
    "collapsed": true,
    "deletable": true,
    "editable": true
   },
   "outputs": [],
   "source": []
  },
  {
   "cell_type": "markdown",
   "metadata": {
    "deletable": true,
    "editable": true
   },
   "source": [
    "# Sentiment analysis using dictionary"
   ]
  },
  {
   "cell_type": "code",
   "execution_count": 104,
   "metadata": {
    "collapsed": false,
    "deletable": true,
    "editable": true
   },
   "outputs": [],
   "source": [
    "tweet_sent = []\n",
    "for tweet in tweets:\n",
    "    tweet = tweet.lower()\n",
    "    tweet = tweet.split(' ')\n",
    "    sent = 0\n",
    "    for word in tweet:\n",
    "        word = word.strip('#')\n",
    "        try:\n",
    "            sent += sent_dict[word]\n",
    "        except:\n",
    "            pass\n",
    "    tweet_sent.append(sent)"
   ]
  },
  {
   "cell_type": "code",
   "execution_count": 105,
   "metadata": {
    "collapsed": false,
    "deletable": true,
    "editable": true
   },
   "outputs": [
    {
     "data": {
      "image/png": "[encoded data removed]",
      "text/plain": [
       "<Figure size 432x288 with 1 Axes>"
      ]
     },
     "metadata": {},
     "output_type": "display_data"
    },
    {
     "data": {
      "image/png": "[encoded data removed]",
      "text/plain": [
       "<Figure size 432x288 with 1 Axes>"
      ]
     },
     "metadata": {},
     "output_type": "display_data"
    }
   ],
   "source": [
    "plt.hist(tweet_sent,bins=[-7.5,-6.5,-5.5,-4.5,-3.5,-2.5,-1.5,-0.5,0.5,1.5,2.5,3.5,4.5,5.5,6.5,7.5,8.5,9.5])#,\n",
    "        #color=['r','r','r','r','r','r','r','k','g','g','g','g','g','g','g'])\n",
    "plt.xlim(-8,10)\n",
    "plt.show()\n",
    "plt.hist(tweet_sent,bins=[-10,-0.5,0.5,10])\n",
    "plt.xlim(-11,11)\n",
    "plt.show()"
   ]
  },
  {
   "cell_type": "code",
   "execution_count": 106,
   "metadata": {
    "collapsed": false,
    "deletable": true,
    "editable": true
   },
   "outputs": [
    {
     "data": {
      "image/png": "[encoded data removed]",
      "text/plain": [
       "<Figure size 432x288 with 1 Axes>"
      ]
     },
     "metadata": {},
     "output_type": "display_data"
    },
    {
     "data": {
      "image/png": "[encoded data removed]",
      "text/plain": [
       "<Figure size 432x288 with 1 Axes>"
      ]
     },
     "metadata": {},
     "output_type": "display_data"
    }
   ],
   "source": [
    "tweet_sent_alt = []\n",
    "for tweet in tweet_sent:\n",
    "    if tweet == 0:\n",
    "        pass\n",
    "    else:\n",
    "        tweet_sent_alt.append(tweet)\n",
    "plt.hist(tweet_sent_alt,bins=[-7,-6,-5,-4,-3,-2,-1,0,1.1,2.1,3.1,4.1,5.1,6.1,7.1,8.1,9.1])#,\n",
    "        #color=['r','r','r','r','r','r','r','k','g','g','g','g','g','g','g'])\n",
    "plt.xlim(-8,10)\n",
    "plt.show()\n",
    "plt.hist(tweet_sent_alt,bins=[-10,0,10],rwidth=0.9)\n",
    "plt.xlim(-10,10) \n",
    "plt.title('NEGATIVE                            POSITIVE')\n",
    "plt.show()"
   ]
  },
  {
   "cell_type": "code",
   "execution_count": 107,
   "metadata": {
    "collapsed": false,
    "deletable": true,
    "editable": true
   },
   "outputs": [
    {
     "name": "stdout",
     "output_type": "stream",
     "text": [
      "{'#deeplearning': 0.4843630816170862, '#machinelearning': 0.4733782841199721, '#reinforcementlearning': 0.9629629629629629, '#artificialintelligence': 0.4115776081424936}\n"
     ]
    }
   ],
   "source": [
    "hashtags = ['#deeplearning','#machinelearning','#reinforcementlearning','#artificialintelligence']\n",
    "for i, tag in enumerate(hashtags): hashtags[i] = tag.lower() \n",
    "counts = [0 for i in range(len(hashtags))]\n",
    "tag_sents = {}\n",
    "tag_sent_list = {}\n",
    "tag_sent_values = {}\n",
    "for tag in hashtags:\n",
    "    tag = tag.lower()\n",
    "    tag_sents[tag] = 0\n",
    "    tag_sent_list[tag] = []\n",
    "    tag_sent_values[tag] = 0\n",
    "#tweets_ = tweets[:100]\n",
    "for tweet in tweets:\n",
    "    tweet = tweet.lower()\n",
    "    tweet = tweet.split(' ')\n",
    "    sent = 0\n",
    "    for word in tweet:\n",
    "        #print (word)\n",
    "        word = word.strip('#')\n",
    "        try:\n",
    "            sent += sent_dict[word]\n",
    "        except:\n",
    "            pass\n",
    "    for i, tag in enumerate(hashtags):\n",
    "        tag = tag.lower()\n",
    "        if tag in tweet:\n",
    "            try:\n",
    "                tag_sents[tag] += sent\n",
    "                tag_sent_list[tag].append(sent)\n",
    "            except:\n",
    "                pass\n",
    "tag_sents_ = deepcopy(tag_sents)\n",
    "for i, key in enumerate(tag_sents_.keys()):\n",
    "    tag_sents_[key] = tag_sents_[key]/tcounts[i]\n",
    "print (tag_sents_)"
   ]
  },
  {
   "cell_type": "markdown",
   "metadata": {
    "deletable": true,
    "editable": true
   },
   "source": [
    "### Average sentiment scores per hashtag"
   ]
  },
  {
   "cell_type": "code",
   "execution_count": 109,
   "metadata": {
    "collapsed": false,
    "deletable": true,
    "editable": true
   },
   "outputs": [
    {
     "data": {
      "image/png": "[encoded data removed]",
      "text/plain": [
       "<Figure size 432x288 with 1 Axes>"
      ]
     },
     "metadata": {},
     "output_type": "display_data"
    }
   ],
   "source": [
    "plt.bar(tag_sents_.keys(),tag_sents_.values(),color=['r','g','b','k'])\n",
    "plt.xticks(rotation='vertical')\n",
    "plt.ylim(0,1.5)\n",
    "plt.show()"
   ]
  },
  {
   "cell_type": "markdown",
   "metadata": {
    "deletable": true,
    "editable": true
   },
   "source": [
    "### Total positive/negative tweets per hashtag"
   ]
  },
  {
   "cell_type": "code",
   "execution_count": 87,
   "metadata": {
    "collapsed": false,
    "deletable": true,
    "editable": true
   },
   "outputs": [
    {
     "name": "stdout",
     "output_type": "stream",
     "text": [
      "{'#deeplearning': 732, '#machinelearning': 2075, '#reinforcementlearning': 14, '#artificialintelligence': 1157}\n",
      "6068\n"
     ]
    },
    {
     "data": {
      "image/png": "[encoded data removed]",
      "text/plain": [
       "<Figure size 432x288 with 1 Axes>"
      ]
     },
     "metadata": {},
     "output_type": "display_data"
    }
   ],
   "source": [
    "ct = 0\n",
    "for i, tag in enumerate(tag_sent_list.keys()):\n",
    "    #print(len(tag_sent_list[tag]))\n",
    "    for tweet in tag_sent_list[tag]:\n",
    "        if tweet > 0:\n",
    "            tag_sent_values[tag] += 1\n",
    "            ct += 1\n",
    "        elif tweet < 0:\n",
    "            tag_sent_values[tag] -= 1\n",
    "            ct += 1\n",
    "print (tag_sent_values)\n",
    "print (ct)\n",
    "plt.bar(tag_sent_values.keys(),tag_sent_values.values(),color=['g','b','r','k'])\n",
    "plt.xticks(rotation='vertical')\n",
    "plt.show()"
   ]
  },
  {
   "cell_type": "markdown",
   "metadata": {
    "deletable": true,
    "editable": true
   },
   "source": [
    "### #deeplearning - no neutral tweets"
   ]
  },
  {
   "cell_type": "code",
   "execution_count": 88,
   "metadata": {
    "collapsed": false,
    "deletable": true,
    "editable": true
   },
   "outputs": [],
   "source": [
    "justdoit = deepcopy(tag_sent_list['#deeplearning'])\n",
    "justdoit_alt = []\n",
    "for tweet in justdoit:\n",
    "    if tweet == 0:\n",
    "        pass\n",
    "    else:\n",
    "        justdoit_alt.append(tweet)\n",
    "#print(justdoit_alt)"
   ]
  },
  {
   "cell_type": "code",
   "execution_count": 89,
   "metadata": {
    "collapsed": false,
    "deletable": true,
    "editable": true
   },
   "outputs": [
    {
     "data": {
      "image/png": "[encoded data removed]",
      "text/plain": [
       "<Figure size 432x288 with 1 Axes>"
      ]
     },
     "metadata": {},
     "output_type": "display_data"
    }
   ],
   "source": [
    "plt.hist(justdoit_alt,bins=[-10,0,10],rwidth=0.9)\n",
    "plt.title('NEGATIVE                           POSITIVE')\n",
    "plt.show()"
   ]
  },
  {
   "cell_type": "markdown",
   "metadata": {
    "deletable": true,
    "editable": true
   },
   "source": [
    "### #machinelearning - no neutral tweets"
   ]
  },
  {
   "cell_type": "code",
   "execution_count": 90,
   "metadata": {
    "collapsed": true,
    "deletable": true,
    "editable": true
   },
   "outputs": [],
   "source": [
    "nike = deepcopy(tag_sent_list['#machinelearning'])\n",
    "nike_alt = []\n",
    "for tweet in nike:\n",
    "    if tweet == 0:\n",
    "        pass\n",
    "    else:\n",
    "        nike_alt.append(tweet)"
   ]
  },
  {
   "cell_type": "code",
   "execution_count": 91,
   "metadata": {
    "collapsed": false,
    "deletable": true,
    "editable": true
   },
   "outputs": [
    {
     "data": {
      "image/png": "[encoded data removed]",
      "text/plain": [
       "<Figure size 432x288 with 1 Axes>"
      ]
     },
     "metadata": {},
     "output_type": "display_data"
    }
   ],
   "source": [
    "plt.hist(nike_alt,bins=[-10,0,10],rwidth=0.9)\n",
    "plt.title('NEGATIVE                           POSITIVE')\n",
    "plt.show()"
   ]
  },
  {
   "cell_type": "markdown",
   "metadata": {
    "deletable": true,
    "editable": true
   },
   "source": [
    "### #artificialintelligence - no neutral tweets"
   ]
  },
  {
   "cell_type": "code",
   "execution_count": 92,
   "metadata": {
    "collapsed": true,
    "deletable": true,
    "editable": true
   },
   "outputs": [],
   "source": [
    "atnike = deepcopy(tag_sent_list['#artificialintelligence'])\n",
    "atnike_alt = []\n",
    "for tweet in atnike:\n",
    "    if tweet == 0:\n",
    "        pass\n",
    "    else:\n",
    "        atnike_alt.append(tweet)"
   ]
  },
  {
   "cell_type": "code",
   "execution_count": 93,
   "metadata": {
    "collapsed": false,
    "deletable": true,
    "editable": true
   },
   "outputs": [
    {
     "data": {
      "image/png": "[encoded data removed]",
      "text/plain": [
       "<Figure size 432x288 with 1 Axes>"
      ]
     },
     "metadata": {},
     "output_type": "display_data"
    }
   ],
   "source": [
    "plt.hist(atnike_alt,bins=[-10,0,10],rwidth=0.9)\n",
    "plt.title('NEGATIVE                           POSITIVE')\n",
    "plt.show()"
   ]
  },
  {
   "cell_type": "code",
   "execution_count": 94,
   "metadata": {
    "collapsed": false,
    "deletable": true,
    "editable": true
   },
   "outputs": [
    {
     "name": "stdout",
     "output_type": "stream",
     "text": [
      "1180\n",
      "13450\n"
     ]
    }
   ],
   "source": [
    "ad_rollout = datetime.datetime(2018,9,2,23,59)\n",
    "one_week_after = datetime.datetime(2018,9,12,23,59)\n",
    "before = df[df.date < ad_rollout]\n",
    "after = df[df.date > ad_rollout]\n",
    "btweets = list(before.tweet)\n",
    "right_after = after[after.date < one_week_after]\n",
    "week_past = after[after.date > one_week_after]\n",
    "ratweets = list(right_after.tweet)\n",
    "wptweets = list(week_past.tweet)\n",
    "print(len(ratweets))\n",
    "print(len(wptweets))"
   ]
  },
  {
   "cell_type": "code",
   "execution_count": null,
   "metadata": {
    "collapsed": true,
    "deletable": true,
    "editable": true
   },
   "outputs": [],
   "source": []
  },
  {
   "cell_type": "code",
   "execution_count": null,
   "metadata": {
    "collapsed": true,
    "deletable": true,
    "editable": true
   },
   "outputs": [],
   "source": []
  },
  {
   "cell_type": "code",
   "execution_count": null,
   "metadata": {
    "collapsed": true,
    "deletable": true,
    "editable": true
   },
   "outputs": [],
   "source": []
  },
  {
   "cell_type": "markdown",
   "metadata": {
    "deletable": true,
    "editable": true
   },
   "source": [
    "### Removes retweets"
   ]
  },
  {
   "cell_type": "code",
   "execution_count": 110,
   "metadata": {
    "collapsed": false,
    "deletable": true,
    "editable": true,
    "scrolled": true
   },
   "outputs": [
    {
     "name": "stderr",
     "output_type": "stream",
     "text": [
      "/usr/local/Cellar/python3/3.6.0/Frameworks/Python.framework/Versions/3.6/lib/python3.6/site-packages/ipykernel/__main__.py:3: DeprecationWarning: \n",
      ".ix is deprecated. Please use\n",
      ".loc for label based indexing or\n",
      ".iloc for positional indexing\n",
      "\n",
      "See the documentation here:\n",
      "http://pandas.pydata.org/pandas-docs/stable/indexing.html#ix-indexer-is-deprecated\n",
      "  app.launch_new_instance()\n"
     ]
    }
   ],
   "source": [
    "rm_duplicates = False\n",
    "if rm_duplicates == False:\n",
    "    df['rt'] = df['tweet'].str.split(':', expand=True).ix[:,0]\n",
    "    df.drop_duplicates(subset=['rt'], keep='first',inplace=True)\n",
    "    df.rt.head()\n",
    "    df.shape[0]"
   ]
  },
  {
   "cell_type": "code",
   "execution_count": 111,
   "metadata": {
    "collapsed": false,
    "deletable": true,
    "editable": true
   },
   "outputs": [
    {
     "name": "stdout",
     "output_type": "stream",
     "text": [
      "#DEEPLEARNING:   1311\n",
      "#MACHINELEARNING:   4301\n",
      "#REINFORCEMENTLEARNING:   27\n",
      "#ARTIFICIALINTELLIGENCE:   3144\n",
      "{'#deeplearning': 0.4843630816170862, '#machinelearning': 0.4733782841199721, '#reinforcementlearning': 0.9629629629629629, '#artificialintelligence': 0.4115776081424936}\n"
     ]
    }
   ],
   "source": [
    "tweets = list(df.tweet)\n",
    "hashtags = ['#deeplearning','#machinelearning','#reinforcementlearning','#artificialintelligence']\n",
    "for i, tag in enumerate(hashtags): hashtags[i] = tag.lower() \n",
    "counts = [0 for i in range(len(hashtags))]\n",
    "for tweet in tweets:\n",
    "    tweet = tweet.lower()\n",
    "    for i, tag in enumerate(hashtags):\n",
    "        if tag in tweet:\n",
    "            counts[i] += 1\n",
    "for i, tag in enumerate(hashtags):\n",
    "    print(tag.upper()+':   '+str(counts[i]))\n",
    "tcounts = deepcopy(counts)\n",
    "\n",
    "tweet_sent = []\n",
    "for tweet in tweets:\n",
    "    tweet = tweet.lower()\n",
    "    tweet = tweet.split(' ')\n",
    "    sent = 0\n",
    "    for word in tweet:\n",
    "        word = word.strip('#')\n",
    "        try:\n",
    "            sent += sent_dict[word]\n",
    "        except:\n",
    "            pass\n",
    "    tweet_sent.append(sent)\n",
    "\n",
    "\n",
    "hashtags = ['#deeplearning','#machinelearning','#reinforcementlearning','#artificialintelligence']\n",
    "for i, tag in enumerate(hashtags): hashtags[i] = tag.lower() \n",
    "counts = [0 for i in range(len(hashtags))]\n",
    "tag_sents = {}\n",
    "tag_sent_list = {}\n",
    "tag_sent_values = {}\n",
    "for tag in hashtags:\n",
    "    tag = tag.lower()\n",
    "    tag_sents[tag] = 0\n",
    "    tag_sent_list[tag] = []\n",
    "    tag_sent_values[tag] = 0\n",
    "#tweets_ = tweets[:100]\n",
    "for tweet in tweets:\n",
    "    tweet = tweet.lower()\n",
    "    tweet = tweet.split(' ')\n",
    "    sent = 0\n",
    "    for word in tweet:\n",
    "        #print (word)\n",
    "        word = word.strip('#')\n",
    "        try:\n",
    "            sent += sent_dict[word]\n",
    "        except:\n",
    "            pass\n",
    "    for i, tag in enumerate(hashtags):\n",
    "        tag = tag.lower()\n",
    "        if tag in tweet:\n",
    "            try:\n",
    "                tag_sents[tag] += sent\n",
    "                tag_sent_list[tag].append(sent)\n",
    "            except:\n",
    "                pass\n",
    "tag_sents_ = deepcopy(tag_sents)\n",
    "for i, key in enumerate(tag_sents_.keys()):\n",
    "    tag_sents_[key] = tag_sents_[key]/tcounts[i]\n",
    "print (tag_sents_)"
   ]
  },
  {
   "cell_type": "code",
   "execution_count": 112,
   "metadata": {
    "collapsed": false,
    "deletable": true,
    "editable": true
   },
   "outputs": [
    {
     "data": {
      "image/png": "[encoded data removed]",
      "text/plain": [
       "<Figure size 432x288 with 1 Axes>"
      ]
     },
     "metadata": {},
     "output_type": "display_data"
    }
   ],
   "source": [
    "plt.bar(tag_sents_.keys(),tag_sents_.values(),color=['r','g','b','k'])\n",
    "plt.xticks(rotation='vertical')\n",
    "plt.ylim(0,1.5)\n",
    "plt.show()"
   ]
  },
  {
   "cell_type": "code",
   "execution_count": 113,
   "metadata": {
    "collapsed": false,
    "deletable": true,
    "editable": true
   },
   "outputs": [
    {
     "name": "stdout",
     "output_type": "stream",
     "text": [
      "{'#deeplearning': 247, '#machinelearning': 902, '#reinforcementlearning': 8, '#artificialintelligence': 574}\n",
      "2663\n"
     ]
    },
    {
     "data": {
      "image/png": "[encoded data removed]",
      "text/plain": [
       "<Figure size 432x288 with 1 Axes>"
      ]
     },
     "metadata": {},
     "output_type": "display_data"
    }
   ],
   "source": [
    "ct = 0\n",
    "for i, tag in enumerate(tag_sent_list.keys()):\n",
    "    #print(len(tag_sent_list[tag]))\n",
    "    for tweet in tag_sent_list[tag]:\n",
    "        if tweet > 0:\n",
    "            tag_sent_values[tag] += 1\n",
    "            ct += 1\n",
    "        elif tweet < 0:\n",
    "            tag_sent_values[tag] -= 1\n",
    "            ct += 1\n",
    "print (tag_sent_values)\n",
    "print (ct)\n",
    "plt.bar(tag_sent_values.keys(),tag_sent_values.values(),color=['g','b','r','k'])\n",
    "plt.xticks(rotation='vertical')\n",
    "plt.show()"
   ]
  },
  {
   "cell_type": "code",
   "execution_count": null,
   "metadata": {
    "collapsed": true,
    "deletable": true,
    "editable": true
   },
   "outputs": [],
   "source": []
  },
  {
   "cell_type": "code",
   "execution_count": null,
   "metadata": {
    "collapsed": false,
    "deletable": true,
    "editable": true
   },
   "outputs": [],
   "source": []
  },
  {
   "cell_type": "code",
   "execution_count": null,
   "metadata": {
    "collapsed": true,
    "deletable": true,
    "editable": true
   },
   "outputs": [],
   "source": []
  },
  {
   "cell_type": "code",
   "execution_count": null,
   "metadata": {
    "collapsed": true,
    "deletable": true,
    "editable": true
   },
   "outputs": [],
   "source": []
  },
  {
   "cell_type": "code",
   "execution_count": null,
   "metadata": {
    "collapsed": true,
    "deletable": true,
    "editable": true
   },
   "outputs": [],
   "source": []
  },
  {
   "cell_type": "code",
   "execution_count": null,
   "metadata": {
    "collapsed": true,
    "deletable": true,
    "editable": true
   },
   "outputs": [],
   "source": []
  }
 ],
 "metadata": {
  "kernelspec": {
   "display_name": "Python 3",
   "language": "python",
   "name": "python3"
  },
  "language_info": {
   "codemirror_mode": {
    "name": "ipython",
    "version": 3
   },
   "file_extension": ".py",
   "mimetype": "text/x-python",
   "name": "python",
   "nbconvert_exporter": "python",
   "pygments_lexer": "ipython3",
   "version": "3.6.0"
  }
 },
 "nbformat": 4,
 "nbformat_minor": 2
}
