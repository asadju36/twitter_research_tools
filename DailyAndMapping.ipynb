{
 "cells": [
  {
   "cell_type": "code",
   "execution_count": 29,
   "metadata": {},
   "outputs": [],
   "source": [
    "import json as js\n",
    "import glob\n",
    "import sys\n",
    "import copy"
   ]
  },
  {
   "cell_type": "code",
   "execution_count": 2,
   "metadata": {},
   "outputs": [],
   "source": [
    "import pandas as pd\n",
    "import numpy as np"
   ]
  },
  {
   "cell_type": "code",
   "execution_count": 3,
   "metadata": {},
   "outputs": [],
   "source": [
    "from sklearn.feature_extraction.text import TfidfVectorizer, CountVectorizer\n",
    "from sklearn.decomposition import NMF, LatentDirichletAllocation\n",
    "from sklearn.manifold import TSNE\n",
    "from sklearn.feature_extraction import text \n",
    "from sklearn.cluster import KMeans, MiniBatchKMeans"
   ]
  },
  {
   "cell_type": "code",
   "execution_count": 4,
   "metadata": {},
   "outputs": [],
   "source": [
    "import matplotlib.pyplot as plt\n",
    "import matplotlib.patches as mpatches\n",
    "import matplotlib\n",
    "%matplotlib inline\n",
    "import seaborn as sns"
   ]
  },
  {
   "cell_type": "code",
   "execution_count": 5,
   "metadata": {},
   "outputs": [],
   "source": [
    "import numpy as np\n",
    "import bokeh.plotting as bp\n",
    "from bokeh.plotting import save\n",
    "from bokeh.models import HoverTool"
   ]
  },
  {
   "cell_type": "code",
   "execution_count": 6,
   "metadata": {},
   "outputs": [],
   "source": [
    "import os\n",
    "from copy import deepcopy\n",
    "import time\n",
    "import datetime"
   ]
  },
  {
   "cell_type": "code",
   "execution_count": 7,
   "metadata": {},
   "outputs": [
    {
     "name": "stderr",
     "output_type": "stream",
     "text": [
      "[nltk_data] Downloading package wordnet to /Users/g/nltk_data...\n",
      "[nltk_data]   Package wordnet is already up-to-date!\n"
     ]
    },
    {
     "data": {
      "text/plain": [
       "True"
      ]
     },
     "execution_count": 7,
     "metadata": {},
     "output_type": "execute_result"
    }
   ],
   "source": [
    "import nltk\n",
    "nltk.download('wordnet')"
   ]
  },
  {
   "cell_type": "code",
   "execution_count": 9,
   "metadata": {},
   "outputs": [],
   "source": [
    "# USE THIS FOR MAPPING\n",
    "# Get basemap from https://github.com/matplotlib/basemap/releases/\n",
    "# Install with instructions from https://matplotlib.org/basemap/users/installing.html\n",
    "# OR on mac: brew install geos\n",
    "# AND then: pip3 install --user git+https://github.com/matplotlib/basemap.git\n",
    "from mpl_toolkits.basemap import Basemap, cm\n",
    "# This also requires netcdf4 -- to install use \"pip3 install netcdf4\"\n",
    "from netCDF4 import Dataset as NetCDFFile"
   ]
  },
  {
   "cell_type": "code",
   "execution_count": 10,
   "metadata": {},
   "outputs": [],
   "source": [
    "additional_stop_words = [''] ##USE THIS FOR STOP WORDS\n",
    "stop_words = text.ENGLISH_STOP_WORDS.union(additional_stop_words)"
   ]
  },
  {
   "cell_type": "code",
   "execution_count": 11,
   "metadata": {},
   "outputs": [],
   "source": [
    "from nltk import word_tokenize\n",
    "from nltk.tokenize import RegexpTokenizer\n",
    "tokenizer = RegexpTokenizer(r'\\w+')\n",
    "from nltk.stem import WordNetLemmatizer \n",
    "class LemmaTokenizer(object):\n",
    "    def __init__(self):\n",
    "        self.wnl = WordNetLemmatizer()\n",
    "    def __call__(self, doc):\n",
    "        return [self.wnl.lemmatize(t) for t in tokenizer.tokenize(doc)]"
   ]
  },
  {
   "cell_type": "code",
   "execution_count": 12,
   "metadata": {},
   "outputs": [],
   "source": [
    "directory = './data/*'"
   ]
  },
  {
   "cell_type": "markdown",
   "metadata": {},
   "source": [
    "## LOAD TWEET OBJECTS"
   ]
  },
  {
   "cell_type": "code",
   "execution_count": 13,
   "metadata": {},
   "outputs": [],
   "source": [
    "tweet_objects = []\n",
    "dirs = glob.glob(directory)\n",
    "for dr in dirs:\n",
    "    files = glob.glob(dr+'/*')\n",
    "    for f in files:\n",
    "            fin = open(f,'r')\n",
    "            for line in fin:\n",
    "                try:\n",
    "                    dat = js.loads(line)\n",
    "                    tweet_objects.append(dat)\n",
    "                except:\n",
    "                    continue\n",
    "            fin.close()"
   ]
  },
  {
   "cell_type": "markdown",
   "metadata": {},
   "source": [
    "## EXTRACT DATA AND EXPORT TO TEMPORARY FILE"
   ]
  },
  {
   "cell_type": "code",
   "execution_count": 14,
   "metadata": {},
   "outputs": [],
   "source": [
    "months = {'Jan':'01','Feb':'02','Mar':'03','Apr':'04','May':'05','Jun':'06','Jul':'07',\\\n",
    "         'Aug':'08','Sep':'09','Oct':'10','Nov':'11','Dec':'12'}"
   ]
  },
  {
   "cell_type": "code",
   "execution_count": 15,
   "metadata": {},
   "outputs": [],
   "source": [
    "fout = open('tmp.dat','w')\n",
    "for ln in tweet_objects:\n",
    "    try:\n",
    "        entities = ln['entities']\n",
    "        hashtags = entities['hashtags']\n",
    "        user_mentions = entities['user_mentions']\n",
    "    except KeyError:\n",
    "        continue\n",
    "    for hashtag in hashtags:\n",
    "        try:\n",
    "            hashtag = hashtag['text']\n",
    "            date = ln['created_at']\n",
    "            #date = date.split()\n",
    "            date = str(date)#str(months[date[1]])+str(date[2])+'18_'+str(date[3])\n",
    "            favorite_count = ln['favorite_count']\n",
    "            user = ln['user']\n",
    "            followers = user['followers_count']\n",
    "            username = user['screen_name']\n",
    "            location = user['location']\n",
    "            txt = ln['text'].replace('\\n','')\n",
    "            fout.write(date + '\\t' + str(favorite_count)+','+str(followers)+',\"'+str(username)+'\",\"'+str(location)+'\",\"'+str(txt)+'\"\\n')\n",
    "        except UnicodeEncodeError:#.encode('utf-8')\n",
    "            continue\n",
    "fout.close()"
   ]
  },
  {
   "cell_type": "markdown",
   "metadata": {},
   "source": [
    "## OPEN TMP FILE AS DATAFRAME"
   ]
  },
  {
   "cell_type": "code",
   "execution_count": 16,
   "metadata": {},
   "outputs": [],
   "source": [
    "df = pd.read_csv('tmp.dat',error_bad_lines=False,header=None,names=\\\n",
    "                 ['date','followers','username','location','tweet'],\\\n",
    "                 delimiter=',',index_col=False)#,encoding='utf-8'\n",
    "df.shape[0]\n",
    "df.drop_duplicates(inplace=True)\n",
    "#rm_duplicates = False"
   ]
  },
  {
   "cell_type": "code",
   "execution_count": 17,
   "metadata": {},
   "outputs": [],
   "source": [
    "#if rm_duplicates == False:\n",
    "#    df['rt'] = df['tweet'].str.split(':', expand=True).ix[:,0]\n",
    "#    df.drop_duplicates(subset=['rt'], keep='first',inplace=True)\n",
    "#    df.rt.head()\n",
    "#    df.shape[0]"
   ]
  },
  {
   "cell_type": "code",
   "execution_count": 18,
   "metadata": {},
   "outputs": [
    {
     "data": {
      "text/plain": [
       "17511"
      ]
     },
     "execution_count": 18,
     "metadata": {},
     "output_type": "execute_result"
    }
   ],
   "source": [
    "df.shape[0]"
   ]
  },
  {
   "cell_type": "code",
   "execution_count": 19,
   "metadata": {
    "scrolled": false
   },
   "outputs": [
    {
     "data": {
      "text/html": [
       "<div>\n",
       "<style scoped>\n",
       "    .dataframe tbody tr th:only-of-type {\n",
       "        vertical-align: middle;\n",
       "    }\n",
       "\n",
       "    .dataframe tbody tr th {\n",
       "        vertical-align: top;\n",
       "    }\n",
       "\n",
       "    .dataframe thead th {\n",
       "        text-align: right;\n",
       "    }\n",
       "</style>\n",
       "<table border=\"1\" class=\"dataframe\">\n",
       "  <thead>\n",
       "    <tr style=\"text-align: right;\">\n",
       "      <th></th>\n",
       "      <th>date</th>\n",
       "      <th>followers</th>\n",
       "      <th>username</th>\n",
       "      <th>location</th>\n",
       "      <th>tweet</th>\n",
       "    </tr>\n",
       "  </thead>\n",
       "  <tbody>\n",
       "    <tr>\n",
       "      <th>0</th>\n",
       "      <td>Fri Apr 06 15:56:36 +0000 2018\\t0</td>\n",
       "      <td>5</td>\n",
       "      <td>11deepanshugarg</td>\n",
       "      <td>New Delhi, India</td>\n",
       "      <td>@Disney Waiting for the release #Incredibles2</td>\n",
       "    </tr>\n",
       "    <tr>\n",
       "      <th>1</th>\n",
       "      <td>Fri Apr 06 15:58:08 +0000 2018\\t0</td>\n",
       "      <td>4</td>\n",
       "      <td>bullshitguru1</td>\n",
       "      <td>None</td>\n",
       "      <td>@ap @reuters @bbc_whys @france24 @haaretzcom @...</td>\n",
       "    </tr>\n",
       "    <tr>\n",
       "      <th>3</th>\n",
       "      <td>Fri Apr 06 18:08:13 +0000 2018\\t0</td>\n",
       "      <td>13213</td>\n",
       "      <td>justuckr</td>\n",
       "      <td>canadá of oslo in havana</td>\n",
       "      <td>I liked a @YouTube video from @Nashgrier - MY ...</td>\n",
       "    </tr>\n",
       "    <tr>\n",
       "      <th>4</th>\n",
       "      <td>Fri Apr 06 18:49:06 +0000 2018\\t0</td>\n",
       "      <td>17</td>\n",
       "      <td>joniremponk</td>\n",
       "      <td>None</td>\n",
       "      <td>@TelkomCare STB IndiHome ada di kotak nomor be...</td>\n",
       "    </tr>\n",
       "    <tr>\n",
       "      <th>5</th>\n",
       "      <td>Fri Apr 06 20:05:25 +0000 2018\\t0</td>\n",
       "      <td>1107868</td>\n",
       "      <td>AgentsofSHIELD</td>\n",
       "      <td>None</td>\n",
       "      <td>She has trained her whole life for this. @Dove...</td>\n",
       "    </tr>\n",
       "    <tr>\n",
       "      <th>6</th>\n",
       "      <td>Fri Apr 13 15:02:53 +0000 2018\\t0</td>\n",
       "      <td>8017</td>\n",
       "      <td>marty713</td>\n",
       "      <td>WhereEverIWant2B</td>\n",
       "      <td>@FoxBusiness @POTUS Awesomeness  #QAnon @POTUS...</td>\n",
       "    </tr>\n",
       "    <tr>\n",
       "      <th>9</th>\n",
       "      <td>Fri Apr 13 18:59:54 +0000 2018\\t0</td>\n",
       "      <td>31483</td>\n",
       "      <td>SanDiskBrasil</td>\n",
       "      <td>Brazil</td>\n",
       "      <td>#BeijinhoNoOmbroPara quem ainda não tem um pen...</td>\n",
       "    </tr>\n",
       "    <tr>\n",
       "      <th>13</th>\n",
       "      <td>Fri Apr 13 21:01:24 +0000 2018\\t0</td>\n",
       "      <td>150</td>\n",
       "      <td>Lennyciotti</td>\n",
       "      <td>new york</td>\n",
       "      <td>@TheFleeingFlea @realDonaldTrump @FoxNews In p...</td>\n",
       "    </tr>\n",
       "    <tr>\n",
       "      <th>14</th>\n",
       "      <td>Fri Apr 20 01:22:42 +0000 2018\\t0</td>\n",
       "      <td>1493</td>\n",
       "      <td>EvansStudio</td>\n",
       "      <td>California, USA</td>\n",
       "      <td>@RocNation @JColeNC @TIDAL #DeleteTidalNow</td>\n",
       "    </tr>\n",
       "    <tr>\n",
       "      <th>15</th>\n",
       "      <td>Fri Apr 20 05:38:15 +0000 2018\\t0</td>\n",
       "      <td>482</td>\n",
       "      <td>Don579</td>\n",
       "      <td>Seaford, Victoria, Australia</td>\n",
       "      <td>@josephdunstan @abcmelbourne @Eastlink It’s Fr...</td>\n",
       "    </tr>\n",
       "    <tr>\n",
       "      <th>16</th>\n",
       "      <td>Fri Apr 20 14:49:12 +0000 2018\\t0</td>\n",
       "      <td>41043</td>\n",
       "      <td>thetrainline</td>\n",
       "      <td>United Kingdom</td>\n",
       "      <td>@Mellow_es Hi there. Sorry to hear this. Can y...</td>\n",
       "    </tr>\n",
       "    <tr>\n",
       "      <th>17</th>\n",
       "      <td>Fri Apr 27 04:03:12 +0000 2018\\t0</td>\n",
       "      <td>684</td>\n",
       "      <td>maddielierman4</td>\n",
       "      <td>Florida, USA</td>\n",
       "      <td>@MarvelStudios killed #AvengersInfinityWar I h...</td>\n",
       "    </tr>\n",
       "    <tr>\n",
       "      <th>18</th>\n",
       "      <td>Fri Apr 27 07:25:26 +0000 2018\\t0</td>\n",
       "      <td>1367</td>\n",
       "      <td>abhi541988</td>\n",
       "      <td>Kolkata, India</td>\n",
       "      <td>@StarSportsIndia Only #KKR rules my mind  #KKR...</td>\n",
       "    </tr>\n",
       "    <tr>\n",
       "      <th>22</th>\n",
       "      <td>Fri Apr 27 14:26:51 +0000 2018\\t0</td>\n",
       "      <td>457</td>\n",
       "      <td>flee01</td>\n",
       "      <td>Columbia, MO</td>\n",
       "      <td>@KelloggsUSPlease enter me to win: Kellogg's 2...</td>\n",
       "    </tr>\n",
       "    <tr>\n",
       "      <th>23</th>\n",
       "      <td>Fri Apr 27 17:53:29 +0000 2018\\t0</td>\n",
       "      <td>12800192</td>\n",
       "      <td>Xbox</td>\n",
       "      <td>None</td>\n",
       "      <td>@jasoninquires C'est magnifique! #Xbox https:/...</td>\n",
       "    </tr>\n",
       "    <tr>\n",
       "      <th>24</th>\n",
       "      <td>Fri Mar 30 06:08:28 +0000 2018\\t0</td>\n",
       "      <td>1</td>\n",
       "      <td>4716bw</td>\n",
       "      <td>None</td>\n",
       "      <td>@Yankees @Delta #sweepstakes</td>\n",
       "    </tr>\n",
       "    <tr>\n",
       "      <th>25</th>\n",
       "      <td>Fri Mar 30 19:06:58 +0000 2018\\t0</td>\n",
       "      <td>0</td>\n",
       "      <td>everythinsuxx</td>\n",
       "      <td>None</td>\n",
       "      <td>@lilysbenoist @sydney_sweeney @netflix @Everyt...</td>\n",
       "    </tr>\n",
       "    <tr>\n",
       "      <th>26</th>\n",
       "      <td>Mon Apr 02 02:20:41 +0000 2018\\t0</td>\n",
       "      <td>64</td>\n",
       "      <td>LeonardGo</td>\n",
       "      <td>None</td>\n",
       "      <td>@nbc you did a solid tonight #JesusChristSuper...</td>\n",
       "    </tr>\n",
       "    <tr>\n",
       "      <th>27</th>\n",
       "      <td>Mon Apr 02 16:25:28 +0000 2018\\t0</td>\n",
       "      <td>700</td>\n",
       "      <td>ShephardOcc</td>\n",
       "      <td>Toronto/London/USA</td>\n",
       "      <td>@KPILLAR4 @BlueJays An awesome series split fo...</td>\n",
       "    </tr>\n",
       "    <tr>\n",
       "      <th>29</th>\n",
       "      <td>Mon Apr 02 20:23:38 +0000 2018\\t0</td>\n",
       "      <td>1516</td>\n",
       "      <td>conners25</td>\n",
       "      <td>Chorley, Lancashire</td>\n",
       "      <td>@TheCWSupergirl #bringbackmaggiesawyer</td>\n",
       "    </tr>\n",
       "    <tr>\n",
       "      <th>30</th>\n",
       "      <td>Mon Apr 09 02:28:33 +0000 2018\\t0</td>\n",
       "      <td>6011</td>\n",
       "      <td>HollyisHaute</td>\n",
       "      <td>Los Angeles, CA</td>\n",
       "      <td>@Missjflar @LoveandLemons 💙💚💛💜 Your Feed! Keep...</td>\n",
       "    </tr>\n",
       "    <tr>\n",
       "      <th>31</th>\n",
       "      <td>Mon Apr 09 02:49:36 +0000 2018\\t0</td>\n",
       "      <td>581</td>\n",
       "      <td>TimeTravelStorm</td>\n",
       "      <td>None</td>\n",
       "      <td>@TimelessFanatic @nbc @Sony You are not suppos...</td>\n",
       "    </tr>\n",
       "    <tr>\n",
       "      <th>32</th>\n",
       "      <td>Mon Apr 09 10:00:35 +0000 2018\\t0</td>\n",
       "      <td>9</td>\n",
       "      <td>Oshingharibian1</td>\n",
       "      <td>Nottingham, England</td>\n",
       "      <td>@SoupFreshCulGy @TeamYouTube @YouTube #Contalb...</td>\n",
       "    </tr>\n",
       "    <tr>\n",
       "      <th>33</th>\n",
       "      <td>Mon Apr 09 13:38:03 +0000 2018\\t0</td>\n",
       "      <td>4468</td>\n",
       "      <td>RedHatSupport</td>\n",
       "      <td>Raleigh, NC</td>\n",
       "      <td>The latest releases of #RedHat Satellite 6.3 a...</td>\n",
       "    </tr>\n",
       "    <tr>\n",
       "      <th>34</th>\n",
       "      <td>Mon Apr 09 23:51:40 +0000 2018\\t0</td>\n",
       "      <td>15</td>\n",
       "      <td>yosinuno</td>\n",
       "      <td>None</td>\n",
       "      <td>@TelkomCare Eh iya min ,nanya lagi ya. Kalo ce...</td>\n",
       "    </tr>\n",
       "  </tbody>\n",
       "</table>\n",
       "</div>"
      ],
      "text/plain": [
       "                                 date  followers         username  \\\n",
       "0   Fri Apr 06 15:56:36 +0000 2018\\t0          5  11deepanshugarg   \n",
       "1   Fri Apr 06 15:58:08 +0000 2018\\t0          4    bullshitguru1   \n",
       "3   Fri Apr 06 18:08:13 +0000 2018\\t0      13213         justuckr   \n",
       "4   Fri Apr 06 18:49:06 +0000 2018\\t0         17      joniremponk   \n",
       "5   Fri Apr 06 20:05:25 +0000 2018\\t0    1107868   AgentsofSHIELD   \n",
       "6   Fri Apr 13 15:02:53 +0000 2018\\t0       8017         marty713   \n",
       "9   Fri Apr 13 18:59:54 +0000 2018\\t0      31483    SanDiskBrasil   \n",
       "13  Fri Apr 13 21:01:24 +0000 2018\\t0        150      Lennyciotti   \n",
       "14  Fri Apr 20 01:22:42 +0000 2018\\t0       1493      EvansStudio   \n",
       "15  Fri Apr 20 05:38:15 +0000 2018\\t0        482           Don579   \n",
       "16  Fri Apr 20 14:49:12 +0000 2018\\t0      41043     thetrainline   \n",
       "17  Fri Apr 27 04:03:12 +0000 2018\\t0        684   maddielierman4   \n",
       "18  Fri Apr 27 07:25:26 +0000 2018\\t0       1367       abhi541988   \n",
       "22  Fri Apr 27 14:26:51 +0000 2018\\t0        457           flee01   \n",
       "23  Fri Apr 27 17:53:29 +0000 2018\\t0   12800192             Xbox   \n",
       "24  Fri Mar 30 06:08:28 +0000 2018\\t0          1           4716bw   \n",
       "25  Fri Mar 30 19:06:58 +0000 2018\\t0          0    everythinsuxx   \n",
       "26  Mon Apr 02 02:20:41 +0000 2018\\t0         64        LeonardGo   \n",
       "27  Mon Apr 02 16:25:28 +0000 2018\\t0        700      ShephardOcc   \n",
       "29  Mon Apr 02 20:23:38 +0000 2018\\t0       1516        conners25   \n",
       "30  Mon Apr 09 02:28:33 +0000 2018\\t0       6011     HollyisHaute   \n",
       "31  Mon Apr 09 02:49:36 +0000 2018\\t0        581  TimeTravelStorm   \n",
       "32  Mon Apr 09 10:00:35 +0000 2018\\t0          9  Oshingharibian1   \n",
       "33  Mon Apr 09 13:38:03 +0000 2018\\t0       4468    RedHatSupport   \n",
       "34  Mon Apr 09 23:51:40 +0000 2018\\t0         15         yosinuno   \n",
       "\n",
       "                        location  \\\n",
       "0               New Delhi, India   \n",
       "1                           None   \n",
       "3       canadá of oslo in havana   \n",
       "4                           None   \n",
       "5                           None   \n",
       "6               WhereEverIWant2B   \n",
       "9                         Brazil   \n",
       "13                      new york   \n",
       "14               California, USA   \n",
       "15  Seaford, Victoria, Australia   \n",
       "16                United Kingdom   \n",
       "17                  Florida, USA   \n",
       "18                Kolkata, India   \n",
       "22                  Columbia, MO   \n",
       "23                          None   \n",
       "24                          None   \n",
       "25                          None   \n",
       "26                          None   \n",
       "27            Toronto/London/USA   \n",
       "29           Chorley, Lancashire   \n",
       "30               Los Angeles, CA   \n",
       "31                          None   \n",
       "32           Nottingham, England   \n",
       "33                   Raleigh, NC   \n",
       "34                          None   \n",
       "\n",
       "                                                tweet  \n",
       "0       @Disney Waiting for the release #Incredibles2  \n",
       "1   @ap @reuters @bbc_whys @france24 @haaretzcom @...  \n",
       "3   I liked a @YouTube video from @Nashgrier - MY ...  \n",
       "4   @TelkomCare STB IndiHome ada di kotak nomor be...  \n",
       "5   She has trained her whole life for this. @Dove...  \n",
       "6   @FoxBusiness @POTUS Awesomeness  #QAnon @POTUS...  \n",
       "9   #BeijinhoNoOmbroPara quem ainda não tem um pen...  \n",
       "13  @TheFleeingFlea @realDonaldTrump @FoxNews In p...  \n",
       "14         @RocNation @JColeNC @TIDAL #DeleteTidalNow  \n",
       "15  @josephdunstan @abcmelbourne @Eastlink It’s Fr...  \n",
       "16  @Mellow_es Hi there. Sorry to hear this. Can y...  \n",
       "17  @MarvelStudios killed #AvengersInfinityWar I h...  \n",
       "18  @StarSportsIndia Only #KKR rules my mind  #KKR...  \n",
       "22  @KelloggsUSPlease enter me to win: Kellogg's 2...  \n",
       "23  @jasoninquires C'est magnifique! #Xbox https:/...  \n",
       "24                       @Yankees @Delta #sweepstakes  \n",
       "25  @lilysbenoist @sydney_sweeney @netflix @Everyt...  \n",
       "26  @nbc you did a solid tonight #JesusChristSuper...  \n",
       "27  @KPILLAR4 @BlueJays An awesome series split fo...  \n",
       "29             @TheCWSupergirl #bringbackmaggiesawyer  \n",
       "30  @Missjflar @LoveandLemons 💙💚💛💜 Your Feed! Keep...  \n",
       "31  @TimelessFanatic @nbc @Sony You are not suppos...  \n",
       "32  @SoupFreshCulGy @TeamYouTube @YouTube #Contalb...  \n",
       "33  The latest releases of #RedHat Satellite 6.3 a...  \n",
       "34  @TelkomCare Eh iya min ,nanya lagi ya. Kalo ce...  "
      ]
     },
     "execution_count": 19,
     "metadata": {},
     "output_type": "execute_result"
    }
   ],
   "source": [
    "df.head(25)"
   ]
  },
  {
   "cell_type": "code",
   "execution_count": 20,
   "metadata": {},
   "outputs": [
    {
     "name": "stdout",
     "output_type": "stream",
     "text": [
      "17511\n"
     ]
    }
   ],
   "source": [
    "dates = list(df.date)\n",
    "cleanDates = []\n",
    "favs = []\n",
    "ct = 0\n",
    "for date in dates:\n",
    "    date = date.split('\\t')\n",
    "    try:\n",
    "      ts = time.strftime('%Y-%m-%d %H:%M:%S', time.strptime(date[0],'%a %b %d %H:%M:%S +0000 %Y'))\n",
    "      favs.append(int(date[1]))\n",
    "      cleanDates.append(ts)\n",
    "      ct+=1\n",
    "    except:\n",
    "      cleanDates.append(np.NaN)\n",
    "      favs.append(0)\n",
    "print(ct)\n",
    "favs.reverse()\n",
    "cleanDates.reverse()"
   ]
  },
  {
   "cell_type": "code",
   "execution_count": 21,
   "metadata": {},
   "outputs": [
    {
     "name": "stdout",
     "output_type": "stream",
     "text": [
      "17511\n"
     ]
    }
   ],
   "source": [
    "print (len(cleanDates))\n",
    "se = pd.Series(cleanDates)\n",
    "df.date = se.values"
   ]
  },
  {
   "cell_type": "code",
   "execution_count": null,
   "metadata": {},
   "outputs": [],
   "source": []
  },
  {
   "cell_type": "code",
   "execution_count": null,
   "metadata": {},
   "outputs": [],
   "source": []
  },
  {
   "cell_type": "code",
   "execution_count": null,
   "metadata": {},
   "outputs": [],
   "source": []
  },
  {
   "cell_type": "markdown",
   "metadata": {},
   "source": [
    "## REMOVING TWEETS FROM DATASET"
   ]
  },
  {
   "cell_type": "code",
   "execution_count": 22,
   "metadata": {},
   "outputs": [],
   "source": [
    "no_ai = copy.deepcopy(df)"
   ]
  },
  {
   "cell_type": "code",
   "execution_count": 23,
   "metadata": {},
   "outputs": [
    {
     "name": "stderr",
     "output_type": "stream",
     "text": [
      "/usr/local/lib/python3.7/site-packages/ipykernel_launcher.py:8: UserWarning: Pandas doesn't allow columns to be created via a new attribute name - see https://pandas.pydata.org/pandas-docs/stable/indexing.html#attribute-access\n",
      "  \n"
     ]
    }
   ],
   "source": [
    "'''\n",
    "*** Tweets often use popular hashtags with unrelated topics.\n",
    "*** Certain words can be used in order to filter such tweets.\n",
    "*** Enter these words below in the bad_terms list.\n",
    "'''\n",
    "bad_terms = ['artificialintelligence']\n",
    "for i in range(len(bad_terms)):\n",
    "    no_ai.bad = no_ai['tweet'].str.lower().str.contains(bad_terms[i].lower())\n",
    "    no_ai = no_ai[no_ai.bad == False]"
   ]
  },
  {
   "cell_type": "code",
   "execution_count": 24,
   "metadata": {},
   "outputs": [
    {
     "data": {
      "text/plain": [
       "17502"
      ]
     },
     "execution_count": 24,
     "metadata": {},
     "output_type": "execute_result"
    }
   ],
   "source": [
    "no_ai.shape[0]"
   ]
  },
  {
   "cell_type": "code",
   "execution_count": 25,
   "metadata": {},
   "outputs": [],
   "source": [
    "df = df[df['tweet'].str.lower().str.contains('artificialintelligence', na=False)]"
   ]
  },
  {
   "cell_type": "code",
   "execution_count": 26,
   "metadata": {},
   "outputs": [
    {
     "data": {
      "text/plain": [
       "9"
      ]
     },
     "execution_count": 26,
     "metadata": {},
     "output_type": "execute_result"
    }
   ],
   "source": [
    "df.shape[0]"
   ]
  },
  {
   "cell_type": "code",
   "execution_count": 27,
   "metadata": {},
   "outputs": [
    {
     "name": "stderr",
     "output_type": "stream",
     "text": [
      "/usr/local/lib/python3.7/site-packages/ipykernel_launcher.py:4: UserWarning: Pandas doesn't allow columns to be created via a new attribute name - see https://pandas.pydata.org/pandas-docs/stable/indexing.html#attribute-access\n",
      "  after removing the cwd from sys.path.\n"
     ]
    }
   ],
   "source": [
    "no_ai = copy.deepcopy(df)\n",
    "bad_terms = ['artificialintelligence']\n",
    "for i in range(len(bad_terms)):\n",
    "    no_ai.bad = no_ai['tweet'].str.lower().str.contains(bad_terms[i].lower())\n",
    "    no_ai = no_ai[no_ai.bad == False]\n",
    "df = df[df['tweet'].str.lower().str.contains('artificialintelligence', na=False)]"
   ]
  },
  {
   "cell_type": "markdown",
   "metadata": {},
   "source": [
    "## COUNTING HASHTAGS AND CO-OCCURANCE OF HASHTAGS"
   ]
  },
  {
   "cell_type": "code",
   "execution_count": 28,
   "metadata": {},
   "outputs": [],
   "source": [
    "tweets = list(df.tweet)"
   ]
  },
  {
   "cell_type": "code",
   "execution_count": 79,
   "metadata": {
    "collapsed": true
   },
   "outputs": [],
   "source": [
    "idxs = list(df.index)"
   ]
  },
  {
   "cell_type": "code",
   "execution_count": 80,
   "metadata": {},
   "outputs": [
    {
     "name": "stdout",
     "output_type": "stream",
     "text": [
      "#DEEPLEARNING:   556\n",
      "#MACHINELEARNING:   1256\n",
      "#REINFORCEMENTLEARNING:   3\n",
      "#ARTIFICIALINTELLIGENCE:   6811\n"
     ]
    }
   ],
   "source": [
    "hashtags = ['#deeplearning','#machinelearning','#reinforcementlearning','#artificialintelligence']\n",
    "for i, tag in enumerate(hashtags): hashtags[i] = tag.lower() \n",
    "counts = [0 for i in range(len(hashtags))]\n",
    "dl,ml = [],[]\n",
    "ct = 0\n",
    "for tweet in tweets:\n",
    "    tweet = tweet.lower()\n",
    "    for i, tag in enumerate(hashtags):\n",
    "        if tag in tweet:\n",
    "            counts[i] += 1\n",
    "            if tag == '#deeplearning':\n",
    "                dl.append(idxs[ct])\n",
    "            if tag == '#machinelearning':\n",
    "                ml.append(idxs[ct])\n",
    "    ct+=1\n",
    "for i, tag in enumerate(hashtags):\n",
    "    print(tag.upper()+':   '+str(counts[i]))"
   ]
  },
  {
   "cell_type": "code",
   "execution_count": null,
   "metadata": {
    "collapsed": true
   },
   "outputs": [],
   "source": []
  },
  {
   "cell_type": "code",
   "execution_count": null,
   "metadata": {
    "collapsed": true
   },
   "outputs": [],
   "source": []
  },
  {
   "cell_type": "code",
   "execution_count": null,
   "metadata": {
    "collapsed": true
   },
   "outputs": [],
   "source": []
  },
  {
   "cell_type": "markdown",
   "metadata": {},
   "source": [
    "## SORT BY DATE"
   ]
  },
  {
   "cell_type": "code",
   "execution_count": 81,
   "metadata": {},
   "outputs": [
    {
     "data": {
      "text/html": [
       "<div>\n",
       "<style scoped>\n",
       "    .dataframe tbody tr th:only-of-type {\n",
       "        vertical-align: middle;\n",
       "    }\n",
       "\n",
       "    .dataframe tbody tr th {\n",
       "        vertical-align: top;\n",
       "    }\n",
       "\n",
       "    .dataframe thead th {\n",
       "        text-align: right;\n",
       "    }\n",
       "</style>\n",
       "<table border=\"1\" class=\"dataframe\">\n",
       "  <thead>\n",
       "    <tr style=\"text-align: right;\">\n",
       "      <th></th>\n",
       "      <th>date</th>\n",
       "      <th>followers</th>\n",
       "      <th>username</th>\n",
       "      <th>location</th>\n",
       "      <th>tweet</th>\n",
       "    </tr>\n",
       "  </thead>\n",
       "  <tbody>\n",
       "    <tr>\n",
       "      <th>4383</th>\n",
       "      <td>2018-08-08 21:49:09</td>\n",
       "      <td>188</td>\n",
       "      <td>CGRIIorg</td>\n",
       "      <td>Global</td>\n",
       "      <td>An interesting proposition from #Google. #Arti...</td>\n",
       "    </tr>\n",
       "    <tr>\n",
       "      <th>5969</th>\n",
       "      <td>2018-08-08 21:55:29</td>\n",
       "      <td>333</td>\n",
       "      <td>Vish_Kanumilli</td>\n",
       "      <td>England, United Kingdom</td>\n",
       "      <td>RT @IainLJBrown: 92% Of AI Leaders Now Trainin...</td>\n",
       "    </tr>\n",
       "    <tr>\n",
       "      <th>4962</th>\n",
       "      <td>2018-08-08 22:04:47</td>\n",
       "      <td>9753</td>\n",
       "      <td>ProcurementPros</td>\n",
       "      <td>Pittsburgh, PA</td>\n",
       "      <td>RT @mvollmer1: Artificial intelligence and Mac...</td>\n",
       "    </tr>\n",
       "    <tr>\n",
       "      <th>6382</th>\n",
       "      <td>2018-08-08 22:05:44</td>\n",
       "      <td>29</td>\n",
       "      <td>nomiiguruchiku</td>\n",
       "      <td>Tukwila, WA</td>\n",
       "      <td>Facebook is racing to build Africa’s internet ...</td>\n",
       "    </tr>\n",
       "    <tr>\n",
       "      <th>4650</th>\n",
       "      <td>2018-08-08 22:08:27</td>\n",
       "      <td>4686</td>\n",
       "      <td>machinelearn_d</td>\n",
       "      <td>The Earth</td>\n",
       "      <td>RT @danielcfng: Amr @Awadallah Founder and #CT...</td>\n",
       "    </tr>\n",
       "    <tr>\n",
       "      <th>4646</th>\n",
       "      <td>2018-08-08 22:15:01</td>\n",
       "      <td>1946</td>\n",
       "      <td>D3pak</td>\n",
       "      <td>Internet</td>\n",
       "      <td>Amazon CEO Jeff Bezos says AI, ML, robots  won...</td>\n",
       "    </tr>\n",
       "    <tr>\n",
       "      <th>4634</th>\n",
       "      <td>2018-08-08 22:34:06</td>\n",
       "      <td>54379</td>\n",
       "      <td>pierrepinna</td>\n",
       "      <td>Marseille, France</td>\n",
       "      <td>RT @andi_staub: Quick guide to understand the ...</td>\n",
       "    </tr>\n",
       "    <tr>\n",
       "      <th>4850</th>\n",
       "      <td>2018-08-08 22:35:07</td>\n",
       "      <td>29</td>\n",
       "      <td>ReliableIOC</td>\n",
       "      <td>None</td>\n",
       "      <td>Inspecting Decision Trees in H2O https://t.co/...</td>\n",
       "    </tr>\n",
       "    <tr>\n",
       "      <th>4470</th>\n",
       "      <td>2018-08-08 23:47:29</td>\n",
       "      <td>4393</td>\n",
       "      <td>HubBucket</td>\n",
       "      <td>New York, NY</td>\n",
       "      <td>🥇The NEXT FRONTIER of #Supercomputing lies in ...</td>\n",
       "    </tr>\n",
       "    <tr>\n",
       "      <th>4327</th>\n",
       "      <td>2018-08-09 00:09:00</td>\n",
       "      <td>217</td>\n",
       "      <td>hamiltonsmith18</td>\n",
       "      <td>None</td>\n",
       "      <td>RT @tussyadiah: Global Risks Report 2017 - Rep...</td>\n",
       "    </tr>\n",
       "    <tr>\n",
       "      <th>5646</th>\n",
       "      <td>2018-08-09 00:34:53</td>\n",
       "      <td>28</td>\n",
       "      <td>Sergeyxx1</td>\n",
       "      <td>None</td>\n",
       "      <td>📈 2,000 EVOT #CONTEST &amp;amp; #BOUNTY 📈#Artifici...</td>\n",
       "    </tr>\n",
       "    <tr>\n",
       "      <th>4489</th>\n",
       "      <td>2018-08-09 01:40:30</td>\n",
       "      <td>2981</td>\n",
       "      <td>BTLyng</td>\n",
       "      <td>None</td>\n",
       "      <td>RT @GrowUrStartup: Top #AI use-cases by #busin...</td>\n",
       "    </tr>\n",
       "    <tr>\n",
       "      <th>3831</th>\n",
       "      <td>2018-08-09 02:20:35</td>\n",
       "      <td>103</td>\n",
       "      <td>SchreiberCJ</td>\n",
       "      <td>Bellevue, WA</td>\n",
       "      <td>RT @bobehayes: 9 #AI trends on our radar @orei...</td>\n",
       "    </tr>\n",
       "    <tr>\n",
       "      <th>5400</th>\n",
       "      <td>2018-08-09 02:58:41</td>\n",
       "      <td>124218</td>\n",
       "      <td>iMariaJohnsen</td>\n",
       "      <td>None</td>\n",
       "      <td>Smart Home For All! 🏡🌳🤖#ArtificialIntelligence...</td>\n",
       "    </tr>\n",
       "    <tr>\n",
       "      <th>6054</th>\n",
       "      <td>2018-08-09 03:36:00</td>\n",
       "      <td>1972</td>\n",
       "      <td>Affiliyfuture1</td>\n",
       "      <td>United Kingdom</td>\n",
       "      <td>RT @eraser: RT @rajat_shrimalAnother robot tha...</td>\n",
       "    </tr>\n",
       "    <tr>\n",
       "      <th>3828</th>\n",
       "      <td>2018-08-09 04:09:38</td>\n",
       "      <td>421</td>\n",
       "      <td>MortlockReinard</td>\n",
       "      <td>Pretoria, South Africa</td>\n",
       "      <td>How to build an API for a machine learning mod...</td>\n",
       "    </tr>\n",
       "    <tr>\n",
       "      <th>5507</th>\n",
       "      <td>2018-08-09 04:47:07</td>\n",
       "      <td>1067</td>\n",
       "      <td>stockfjm</td>\n",
       "      <td>Peru</td>\n",
       "      <td>¡NEUROMORPHIC TECHNOLOGIES IS OUT !!! https://...</td>\n",
       "    </tr>\n",
       "    <tr>\n",
       "      <th>3878</th>\n",
       "      <td>2018-08-09 04:59:26</td>\n",
       "      <td>168</td>\n",
       "      <td>Acuiti__Labs</td>\n",
       "      <td>London, United Kingdom</td>\n",
       "      <td>It is with the help of #ArtificialIntelligence...</td>\n",
       "    </tr>\n",
       "    <tr>\n",
       "      <th>4772</th>\n",
       "      <td>2018-08-09 05:16:43</td>\n",
       "      <td>50</td>\n",
       "      <td>LillyRolim</td>\n",
       "      <td>@SP - Brasil</td>\n",
       "      <td>RT @intellimetri: The Different Types of #AI(#...</td>\n",
       "    </tr>\n",
       "    <tr>\n",
       "      <th>4108</th>\n",
       "      <td>2018-08-09 05:26:00</td>\n",
       "      <td>4248</td>\n",
       "      <td>Ashot_</td>\n",
       "      <td>Jax,FL</td>\n",
       "      <td>RT @blueforcedev: Sensor-to-Shooter #Artificia...</td>\n",
       "    </tr>\n",
       "    <tr>\n",
       "      <th>6807</th>\n",
       "      <td>2018-08-09 05:53:35</td>\n",
       "      <td>11705</td>\n",
       "      <td>TheFINTECHBook</td>\n",
       "      <td>Global</td>\n",
       "      <td>RT @Ronald_vanLoon: 6 Advantages of #BlockChai...</td>\n",
       "    </tr>\n",
       "    <tr>\n",
       "      <th>4157</th>\n",
       "      <td>2018-08-09 06:20:16</td>\n",
       "      <td>14251</td>\n",
       "      <td>AsmGur3</td>\n",
       "      <td>earth</td>\n",
       "      <td>Hey !! See this news !!!! #bitcoin #blockchain...</td>\n",
       "    </tr>\n",
       "    <tr>\n",
       "      <th>5211</th>\n",
       "      <td>2018-08-09 07:20:03</td>\n",
       "      <td>1211</td>\n",
       "      <td>ADMuXJepIeGFujX</td>\n",
       "      <td>None</td>\n",
       "      <td>RT @XYfNGkHjtv1xaGA: 10 Innovative Technologie...</td>\n",
       "    </tr>\n",
       "    <tr>\n",
       "      <th>3876</th>\n",
       "      <td>2018-08-09 07:28:59</td>\n",
       "      <td>2163</td>\n",
       "      <td>fortivus</td>\n",
       "      <td>London, England</td>\n",
       "      <td>Augmenting BI and Analytics in the Age of AI a...</td>\n",
       "    </tr>\n",
       "    <tr>\n",
       "      <th>4105</th>\n",
       "      <td>2018-08-09 08:12:33</td>\n",
       "      <td>106</td>\n",
       "      <td>JennMiller5654</td>\n",
       "      <td>None</td>\n",
       "      <td>#LikeABosch: Bosch Launches IoT Image Campaign...</td>\n",
       "    </tr>\n",
       "  </tbody>\n",
       "</table>\n",
       "</div>"
      ],
      "text/plain": [
       "                    date  followers         username                 location  \\\n",
       "4383 2018-08-08 21:49:09        188         CGRIIorg                   Global   \n",
       "5969 2018-08-08 21:55:29        333   Vish_Kanumilli  England, United Kingdom   \n",
       "4962 2018-08-08 22:04:47       9753  ProcurementPros           Pittsburgh, PA   \n",
       "6382 2018-08-08 22:05:44         29   nomiiguruchiku              Tukwila, WA   \n",
       "4650 2018-08-08 22:08:27       4686   machinelearn_d                The Earth   \n",
       "4646 2018-08-08 22:15:01       1946            D3pak                 Internet   \n",
       "4634 2018-08-08 22:34:06      54379      pierrepinna        Marseille, France   \n",
       "4850 2018-08-08 22:35:07         29      ReliableIOC                     None   \n",
       "4470 2018-08-08 23:47:29       4393        HubBucket             New York, NY   \n",
       "4327 2018-08-09 00:09:00        217  hamiltonsmith18                     None   \n",
       "5646 2018-08-09 00:34:53         28        Sergeyxx1                     None   \n",
       "4489 2018-08-09 01:40:30       2981           BTLyng                     None   \n",
       "3831 2018-08-09 02:20:35        103      SchreiberCJ             Bellevue, WA   \n",
       "5400 2018-08-09 02:58:41     124218    iMariaJohnsen                     None   \n",
       "6054 2018-08-09 03:36:00       1972   Affiliyfuture1           United Kingdom   \n",
       "3828 2018-08-09 04:09:38        421  MortlockReinard   Pretoria, South Africa   \n",
       "5507 2018-08-09 04:47:07       1067         stockfjm                     Peru   \n",
       "3878 2018-08-09 04:59:26        168     Acuiti__Labs   London, United Kingdom   \n",
       "4772 2018-08-09 05:16:43         50       LillyRolim             @SP - Brasil   \n",
       "4108 2018-08-09 05:26:00       4248           Ashot_                   Jax,FL   \n",
       "6807 2018-08-09 05:53:35      11705   TheFINTECHBook                   Global   \n",
       "4157 2018-08-09 06:20:16      14251          AsmGur3                    earth   \n",
       "5211 2018-08-09 07:20:03       1211  ADMuXJepIeGFujX                     None   \n",
       "3876 2018-08-09 07:28:59       2163         fortivus          London, England   \n",
       "4105 2018-08-09 08:12:33        106   JennMiller5654                     None   \n",
       "\n",
       "                                                  tweet  \n",
       "4383  An interesting proposition from #Google. #Arti...  \n",
       "5969  RT @IainLJBrown: 92% Of AI Leaders Now Trainin...  \n",
       "4962  RT @mvollmer1: Artificial intelligence and Mac...  \n",
       "6382  Facebook is racing to build Africa’s internet ...  \n",
       "4650  RT @danielcfng: Amr @Awadallah Founder and #CT...  \n",
       "4646  Amazon CEO Jeff Bezos says AI, ML, robots  won...  \n",
       "4634  RT @andi_staub: Quick guide to understand the ...  \n",
       "4850  Inspecting Decision Trees in H2O https://t.co/...  \n",
       "4470  🥇The NEXT FRONTIER of #Supercomputing lies in ...  \n",
       "4327  RT @tussyadiah: Global Risks Report 2017 - Rep...  \n",
       "5646  📈 2,000 EVOT #CONTEST &amp; #BOUNTY 📈#Artifici...  \n",
       "4489  RT @GrowUrStartup: Top #AI use-cases by #busin...  \n",
       "3831  RT @bobehayes: 9 #AI trends on our radar @orei...  \n",
       "5400  Smart Home For All! 🏡🌳🤖#ArtificialIntelligence...  \n",
       "6054  RT @eraser: RT @rajat_shrimalAnother robot tha...  \n",
       "3828  How to build an API for a machine learning mod...  \n",
       "5507  ¡NEUROMORPHIC TECHNOLOGIES IS OUT !!! https://...  \n",
       "3878  It is with the help of #ArtificialIntelligence...  \n",
       "4772  RT @intellimetri: The Different Types of #AI(#...  \n",
       "4108  RT @blueforcedev: Sensor-to-Shooter #Artificia...  \n",
       "6807  RT @Ronald_vanLoon: 6 Advantages of #BlockChai...  \n",
       "4157  Hey !! See this news !!!! #bitcoin #blockchain...  \n",
       "5211  RT @XYfNGkHjtv1xaGA: 10 Innovative Technologie...  \n",
       "3876  Augmenting BI and Analytics in the Age of AI a...  \n",
       "4105  #LikeABosch: Bosch Launches IoT Image Campaign...  "
      ]
     },
     "execution_count": 81,
     "metadata": {},
     "output_type": "execute_result"
    }
   ],
   "source": [
    "df['date'] = pd.to_datetime(df['date'])\n",
    "df.sort_values(by='date',ascending=True,inplace=True)\n",
    "df.head(25)"
   ]
  },
  {
   "cell_type": "code",
   "execution_count": 82,
   "metadata": {},
   "outputs": [
    {
     "data": {
      "text/plain": [
       "<matplotlib.axes._subplots.AxesSubplot at 0x10f972a58>"
      ]
     },
     "execution_count": 82,
     "metadata": {},
     "output_type": "execute_result"
    },
    {
     "data": {
      "image/png": "[encoded data removed]",
      "text/plain": [
       "<Figure size 432x288 with 1 Axes>"
      ]
     },
     "metadata": {},
     "output_type": "display_data"
    }
   ],
   "source": [
    "df.tweet.groupby(df[\"date\"].dt.week).count().plot(kind=\"bar\")"
   ]
  },
  {
   "cell_type": "code",
   "execution_count": null,
   "metadata": {
    "collapsed": true
   },
   "outputs": [],
   "source": []
  },
  {
   "cell_type": "code",
   "execution_count": null,
   "metadata": {
    "collapsed": true
   },
   "outputs": [],
   "source": []
  },
  {
   "cell_type": "code",
   "execution_count": null,
   "metadata": {
    "collapsed": true
   },
   "outputs": [],
   "source": []
  },
  {
   "cell_type": "markdown",
   "metadata": {},
   "source": [
    "## SORT BY NUMBER OF FOLLOWERS"
   ]
  },
  {
   "cell_type": "code",
   "execution_count": 83,
   "metadata": {
    "scrolled": true
   },
   "outputs": [
    {
     "data": {
      "text/html": [
       "<div>\n",
       "<style scoped>\n",
       "    .dataframe tbody tr th:only-of-type {\n",
       "        vertical-align: middle;\n",
       "    }\n",
       "\n",
       "    .dataframe tbody tr th {\n",
       "        vertical-align: top;\n",
       "    }\n",
       "\n",
       "    .dataframe thead th {\n",
       "        text-align: right;\n",
       "    }\n",
       "</style>\n",
       "<table border=\"1\" class=\"dataframe\">\n",
       "  <thead>\n",
       "    <tr style=\"text-align: right;\">\n",
       "      <th></th>\n",
       "      <th>date</th>\n",
       "      <th>followers</th>\n",
       "      <th>username</th>\n",
       "      <th>location</th>\n",
       "      <th>tweet</th>\n",
       "    </tr>\n",
       "  </thead>\n",
       "  <tbody>\n",
       "    <tr>\n",
       "      <th>12252</th>\n",
       "      <td>2018-10-23 17:24:02</td>\n",
       "      <td>8015143</td>\n",
       "      <td>abpnewstv</td>\n",
       "      <td>India</td>\n",
       "      <td>From #telecom to #automobile, top 5 industries...</td>\n",
       "    </tr>\n",
       "    <tr>\n",
       "      <th>55091</th>\n",
       "      <td>2018-11-05 14:28:39</td>\n",
       "      <td>1153521</td>\n",
       "      <td>forbes_india</td>\n",
       "      <td>India</td>\n",
       "      <td>IN PICTURES | The first-ever show of art creat...</td>\n",
       "    </tr>\n",
       "    <tr>\n",
       "      <th>43831</th>\n",
       "      <td>2018-10-01 22:08:39</td>\n",
       "      <td>504191</td>\n",
       "      <td>LouisSerge</td>\n",
       "      <td>France</td>\n",
       "      <td>RT @edmuke: Should we be wary of #ArtificialIn...</td>\n",
       "    </tr>\n",
       "    <tr>\n",
       "      <th>7472</th>\n",
       "      <td>2018-09-17 19:10:23</td>\n",
       "      <td>500494</td>\n",
       "      <td>RichSimmondsZA</td>\n",
       "      <td>South Africa</td>\n",
       "      <td>RT @evankirstel: Artificial Intelligence is a ...</td>\n",
       "    </tr>\n",
       "    <tr>\n",
       "      <th>50604</th>\n",
       "      <td>2018-08-31 07:14:08</td>\n",
       "      <td>499433</td>\n",
       "      <td>RichSimmondsZA</td>\n",
       "      <td>South Africa</td>\n",
       "      <td>RT @evankirstel: Before You Fail at #Artificia...</td>\n",
       "    </tr>\n",
       "    <tr>\n",
       "      <th>30236</th>\n",
       "      <td>2018-12-14 12:16:14</td>\n",
       "      <td>498142</td>\n",
       "      <td>Androidheadline</td>\n",
       "      <td>Los Angeles, CA</td>\n",
       "      <td>Amazon Wants You To Help Make Alexa Smarter ht...</td>\n",
       "    </tr>\n",
       "    <tr>\n",
       "      <th>4262</th>\n",
       "      <td>2018-08-10 00:40:19</td>\n",
       "      <td>442320</td>\n",
       "      <td>Deloitte</td>\n",
       "      <td>Global</td>\n",
       "      <td>How will #artificialintelligence transform #di...</td>\n",
       "    </tr>\n",
       "    <tr>\n",
       "      <th>52927</th>\n",
       "      <td>2018-12-05 06:16:26</td>\n",
       "      <td>278683</td>\n",
       "      <td>Montreal_AI</td>\n",
       "      <td>Montréal, Québec</td>\n",
       "      <td>RT @future_timeline: BBC News - Portrait by AI...</td>\n",
       "    </tr>\n",
       "    <tr>\n",
       "      <th>16050</th>\n",
       "      <td>2018-09-22 05:53:05</td>\n",
       "      <td>278454</td>\n",
       "      <td>Montreal_AI</td>\n",
       "      <td>Montréal, Québec</td>\n",
       "      <td>Who Is Going To Make Money In AI?Blog post by ...</td>\n",
       "    </tr>\n",
       "    <tr>\n",
       "      <th>1943</th>\n",
       "      <td>2018-10-07 07:02:37</td>\n",
       "      <td>226711</td>\n",
       "      <td>grattonboy</td>\n",
       "      <td>London, United Kingdom</td>\n",
       "      <td>Can We Make Artificial Intelligence Accountabl...</td>\n",
       "    </tr>\n",
       "    <tr>\n",
       "      <th>71645</th>\n",
       "      <td>2018-12-24 05:14:13</td>\n",
       "      <td>226582</td>\n",
       "      <td>grattonboy</td>\n",
       "      <td>London, United Kingdom</td>\n",
       "      <td>Can We Make Artificial Intelligence Accountabl...</td>\n",
       "    </tr>\n",
       "    <tr>\n",
       "      <th>18994</th>\n",
       "      <td>2018-09-09 22:24:05</td>\n",
       "      <td>222392</td>\n",
       "      <td>evankirstel</td>\n",
       "      <td>Boston, MA</td>\n",
       "      <td>RT @evankirstel: The first AI news anchor #AI ...</td>\n",
       "    </tr>\n",
       "    <tr>\n",
       "      <th>12156</th>\n",
       "      <td>2018-10-25 05:41:03</td>\n",
       "      <td>204062</td>\n",
       "      <td>ADB_HQ</td>\n",
       "      <td>Manila, Philippines</td>\n",
       "      <td>Rise of #ArtificialIntelligence could hurt wom...</td>\n",
       "    </tr>\n",
       "    <tr>\n",
       "      <th>30942</th>\n",
       "      <td>2018-12-11 12:30:21</td>\n",
       "      <td>188894</td>\n",
       "      <td>Montreal_AI</td>\n",
       "      <td>Montréal, Québec</td>\n",
       "      <td>RT @Montreal_AI: Happy birthday to Geoffrey Hi...</td>\n",
       "    </tr>\n",
       "    <tr>\n",
       "      <th>64619</th>\n",
       "      <td>2018-11-12 14:17:15</td>\n",
       "      <td>187429</td>\n",
       "      <td>grattongirl</td>\n",
       "      <td>London, United Kingdom</td>\n",
       "      <td>10 Steps to #Cybersecurity #RiskManagement #Ar...</td>\n",
       "    </tr>\n",
       "    <tr>\n",
       "      <th>7970</th>\n",
       "      <td>2018-09-19 13:37:43</td>\n",
       "      <td>187368</td>\n",
       "      <td>grattongirl</td>\n",
       "      <td>London, United Kingdom</td>\n",
       "      <td>#DigitalTransformation: 73% investing in #IoT,...</td>\n",
       "    </tr>\n",
       "    <tr>\n",
       "      <th>8556</th>\n",
       "      <td>2018-09-18 17:28:17</td>\n",
       "      <td>187362</td>\n",
       "      <td>grattongirl</td>\n",
       "      <td>London, United Kingdom</td>\n",
       "      <td>#China Will Close #ArtificialIntelligence Gap ...</td>\n",
       "    </tr>\n",
       "    <tr>\n",
       "      <th>66346</th>\n",
       "      <td>2018-10-21 12:13:30</td>\n",
       "      <td>187268</td>\n",
       "      <td>grattongirl</td>\n",
       "      <td>London, United Kingdom</td>\n",
       "      <td>6 top #AI influencer hashtags @nodexl #artific...</td>\n",
       "    </tr>\n",
       "    <tr>\n",
       "      <th>56696</th>\n",
       "      <td>2018-11-26 09:21:36</td>\n",
       "      <td>186978</td>\n",
       "      <td>grattongirl</td>\n",
       "      <td>London, United Kingdom</td>\n",
       "      <td>Can #Blockchain And #AI Accelerate The Arrival...</td>\n",
       "    </tr>\n",
       "    <tr>\n",
       "      <th>10277</th>\n",
       "      <td>2018-09-18 14:26:02</td>\n",
       "      <td>183172</td>\n",
       "      <td>grattongirl</td>\n",
       "      <td>London, United Kingdom</td>\n",
       "      <td>AI Competition Is the New Space Race https://t...</td>\n",
       "    </tr>\n",
       "    <tr>\n",
       "      <th>14646</th>\n",
       "      <td>2018-09-26 05:45:57</td>\n",
       "      <td>182328</td>\n",
       "      <td>grattongirl</td>\n",
       "      <td>London, United Kingdom</td>\n",
       "      <td>Researchers are using #ArtificialIntelligence ...</td>\n",
       "    </tr>\n",
       "    <tr>\n",
       "      <th>24814</th>\n",
       "      <td>2018-10-16 11:06:35</td>\n",
       "      <td>182222</td>\n",
       "      <td>grattongirl</td>\n",
       "      <td>London, United Kingdom</td>\n",
       "      <td>RT @grattonboy: Ten types of #AI technologies ...</td>\n",
       "    </tr>\n",
       "    <tr>\n",
       "      <th>63068</th>\n",
       "      <td>2018-08-16 11:40:26</td>\n",
       "      <td>177922</td>\n",
       "      <td>grattonboy</td>\n",
       "      <td>London, United Kingdom</td>\n",
       "      <td>10 Steps to #Cybersecurity #RiskManagement #Ar...</td>\n",
       "    </tr>\n",
       "    <tr>\n",
       "      <th>75603</th>\n",
       "      <td>2018-09-29 14:49:55</td>\n",
       "      <td>177743</td>\n",
       "      <td>grattonboy</td>\n",
       "      <td>London, United Kingdom</td>\n",
       "      <td>When #ArtificialIntelligence meets #AI - 6 yea...</td>\n",
       "    </tr>\n",
       "    <tr>\n",
       "      <th>74776</th>\n",
       "      <td>2018-12-29 05:13:28</td>\n",
       "      <td>177684</td>\n",
       "      <td>grattonboy</td>\n",
       "      <td>London, United Kingdom</td>\n",
       "      <td>Just move and let #ArtificialIntelligence deli...</td>\n",
       "    </tr>\n",
       "  </tbody>\n",
       "</table>\n",
       "</div>"
      ],
      "text/plain": [
       "                     date  followers         username                location  \\\n",
       "12252 2018-10-23 17:24:02    8015143        abpnewstv                   India   \n",
       "55091 2018-11-05 14:28:39    1153521     forbes_india                   India   \n",
       "43831 2018-10-01 22:08:39     504191       LouisSerge                  France   \n",
       "7472  2018-09-17 19:10:23     500494   RichSimmondsZA            South Africa   \n",
       "50604 2018-08-31 07:14:08     499433   RichSimmondsZA            South Africa   \n",
       "30236 2018-12-14 12:16:14     498142  Androidheadline         Los Angeles, CA   \n",
       "4262  2018-08-10 00:40:19     442320         Deloitte                  Global   \n",
       "52927 2018-12-05 06:16:26     278683      Montreal_AI        Montréal, Québec   \n",
       "16050 2018-09-22 05:53:05     278454      Montreal_AI        Montréal, Québec   \n",
       "1943  2018-10-07 07:02:37     226711       grattonboy  London, United Kingdom   \n",
       "71645 2018-12-24 05:14:13     226582       grattonboy  London, United Kingdom   \n",
       "18994 2018-09-09 22:24:05     222392      evankirstel              Boston, MA   \n",
       "12156 2018-10-25 05:41:03     204062           ADB_HQ     Manila, Philippines   \n",
       "30942 2018-12-11 12:30:21     188894      Montreal_AI        Montréal, Québec   \n",
       "64619 2018-11-12 14:17:15     187429      grattongirl  London, United Kingdom   \n",
       "7970  2018-09-19 13:37:43     187368      grattongirl  London, United Kingdom   \n",
       "8556  2018-09-18 17:28:17     187362      grattongirl  London, United Kingdom   \n",
       "66346 2018-10-21 12:13:30     187268      grattongirl  London, United Kingdom   \n",
       "56696 2018-11-26 09:21:36     186978      grattongirl  London, United Kingdom   \n",
       "10277 2018-09-18 14:26:02     183172      grattongirl  London, United Kingdom   \n",
       "14646 2018-09-26 05:45:57     182328      grattongirl  London, United Kingdom   \n",
       "24814 2018-10-16 11:06:35     182222      grattongirl  London, United Kingdom   \n",
       "63068 2018-08-16 11:40:26     177922       grattonboy  London, United Kingdom   \n",
       "75603 2018-09-29 14:49:55     177743       grattonboy  London, United Kingdom   \n",
       "74776 2018-12-29 05:13:28     177684       grattonboy  London, United Kingdom   \n",
       "\n",
       "                                                   tweet  \n",
       "12252  From #telecom to #automobile, top 5 industries...  \n",
       "55091  IN PICTURES | The first-ever show of art creat...  \n",
       "43831  RT @edmuke: Should we be wary of #ArtificialIn...  \n",
       "7472   RT @evankirstel: Artificial Intelligence is a ...  \n",
       "50604  RT @evankirstel: Before You Fail at #Artificia...  \n",
       "30236  Amazon Wants You To Help Make Alexa Smarter ht...  \n",
       "4262   How will #artificialintelligence transform #di...  \n",
       "52927  RT @future_timeline: BBC News - Portrait by AI...  \n",
       "16050  Who Is Going To Make Money In AI?Blog post by ...  \n",
       "1943   Can We Make Artificial Intelligence Accountabl...  \n",
       "71645  Can We Make Artificial Intelligence Accountabl...  \n",
       "18994  RT @evankirstel: The first AI news anchor #AI ...  \n",
       "12156  Rise of #ArtificialIntelligence could hurt wom...  \n",
       "30942  RT @Montreal_AI: Happy birthday to Geoffrey Hi...  \n",
       "64619  10 Steps to #Cybersecurity #RiskManagement #Ar...  \n",
       "7970   #DigitalTransformation: 73% investing in #IoT,...  \n",
       "8556   #China Will Close #ArtificialIntelligence Gap ...  \n",
       "66346  6 top #AI influencer hashtags @nodexl #artific...  \n",
       "56696  Can #Blockchain And #AI Accelerate The Arrival...  \n",
       "10277  AI Competition Is the New Space Race https://t...  \n",
       "14646  Researchers are using #ArtificialIntelligence ...  \n",
       "24814  RT @grattonboy: Ten types of #AI technologies ...  \n",
       "63068  10 Steps to #Cybersecurity #RiskManagement #Ar...  \n",
       "75603  When #ArtificialIntelligence meets #AI - 6 yea...  \n",
       "74776  Just move and let #ArtificialIntelligence deli...  "
      ]
     },
     "execution_count": 83,
     "metadata": {},
     "output_type": "execute_result"
    }
   ],
   "source": [
    "df.followers = df.followers.astype(int)\n",
    "df.sort_values(by='followers',ascending=False,inplace=True)\n",
    "df.head(25)"
   ]
  },
  {
   "cell_type": "code",
   "execution_count": 84,
   "metadata": {},
   "outputs": [],
   "source": [
    "#followers = list(df.followers)\n",
    "#x = [i for i in range(len(followers))]\n",
    "#plt.ylim(0,1500000)\n",
    "#plt.xlim(0,1000)\n",
    "#plt.bar(x,followers)\n",
    "#plt.show()"
   ]
  },
  {
   "cell_type": "code",
   "execution_count": null,
   "metadata": {
    "collapsed": true
   },
   "outputs": [],
   "source": []
  },
  {
   "cell_type": "code",
   "execution_count": null,
   "metadata": {
    "collapsed": true
   },
   "outputs": [],
   "source": []
  },
  {
   "cell_type": "code",
   "execution_count": null,
   "metadata": {
    "collapsed": true
   },
   "outputs": [],
   "source": []
  },
  {
   "cell_type": "markdown",
   "metadata": {},
   "source": [
    "## SPLIT INTO BEFORE AND AFTER"
   ]
  },
  {
   "cell_type": "code",
   "execution_count": 85,
   "metadata": {},
   "outputs": [],
   "source": [
    "date_of_interest = datetime.datetime(2018,12,31,23,59)"
   ]
  },
  {
   "cell_type": "code",
   "execution_count": 86,
   "metadata": {},
   "outputs": [
    {
     "name": "stdout",
     "output_type": "stream",
     "text": [
      "2018-12-31 23:59:00\n"
     ]
    }
   ],
   "source": [
    "print(date_of_interest)"
   ]
  },
  {
   "cell_type": "code",
   "execution_count": 87,
   "metadata": {},
   "outputs": [
    {
     "data": {
      "text/plain": [
       "6165"
      ]
     },
     "execution_count": 87,
     "metadata": {},
     "output_type": "execute_result"
    }
   ],
   "source": [
    "before = df[df.date < date_of_interest]\n",
    "before.shape[0]"
   ]
  },
  {
   "cell_type": "code",
   "execution_count": 88,
   "metadata": {},
   "outputs": [
    {
     "data": {
      "text/plain": [
       "654"
      ]
     },
     "execution_count": 88,
     "metadata": {},
     "output_type": "execute_result"
    }
   ],
   "source": [
    "after = df[df.date > date_of_interest]\n",
    "after.shape[0]"
   ]
  },
  {
   "cell_type": "code",
   "execution_count": 89,
   "metadata": {},
   "outputs": [
    {
     "data": {
      "text/html": [
       "<div>\n",
       "<style scoped>\n",
       "    .dataframe tbody tr th:only-of-type {\n",
       "        vertical-align: middle;\n",
       "    }\n",
       "\n",
       "    .dataframe tbody tr th {\n",
       "        vertical-align: top;\n",
       "    }\n",
       "\n",
       "    .dataframe thead th {\n",
       "        text-align: right;\n",
       "    }\n",
       "</style>\n",
       "<table border=\"1\" class=\"dataframe\">\n",
       "  <thead>\n",
       "    <tr style=\"text-align: right;\">\n",
       "      <th></th>\n",
       "      <th>date</th>\n",
       "      <th>followers</th>\n",
       "      <th>username</th>\n",
       "      <th>location</th>\n",
       "      <th>tweet</th>\n",
       "    </tr>\n",
       "  </thead>\n",
       "  <tbody>\n",
       "    <tr>\n",
       "      <th>12252</th>\n",
       "      <td>2018-10-23 17:24:02</td>\n",
       "      <td>8015143</td>\n",
       "      <td>abpnewstv</td>\n",
       "      <td>India</td>\n",
       "      <td>From #telecom to #automobile, top 5 industries...</td>\n",
       "    </tr>\n",
       "    <tr>\n",
       "      <th>55091</th>\n",
       "      <td>2018-11-05 14:28:39</td>\n",
       "      <td>1153521</td>\n",
       "      <td>forbes_india</td>\n",
       "      <td>India</td>\n",
       "      <td>IN PICTURES | The first-ever show of art creat...</td>\n",
       "    </tr>\n",
       "    <tr>\n",
       "      <th>43831</th>\n",
       "      <td>2018-10-01 22:08:39</td>\n",
       "      <td>504191</td>\n",
       "      <td>LouisSerge</td>\n",
       "      <td>France</td>\n",
       "      <td>RT @edmuke: Should we be wary of #ArtificialIn...</td>\n",
       "    </tr>\n",
       "    <tr>\n",
       "      <th>7472</th>\n",
       "      <td>2018-09-17 19:10:23</td>\n",
       "      <td>500494</td>\n",
       "      <td>RichSimmondsZA</td>\n",
       "      <td>South Africa</td>\n",
       "      <td>RT @evankirstel: Artificial Intelligence is a ...</td>\n",
       "    </tr>\n",
       "    <tr>\n",
       "      <th>50604</th>\n",
       "      <td>2018-08-31 07:14:08</td>\n",
       "      <td>499433</td>\n",
       "      <td>RichSimmondsZA</td>\n",
       "      <td>South Africa</td>\n",
       "      <td>RT @evankirstel: Before You Fail at #Artificia...</td>\n",
       "    </tr>\n",
       "  </tbody>\n",
       "</table>\n",
       "</div>"
      ],
      "text/plain": [
       "                     date  followers        username      location  \\\n",
       "12252 2018-10-23 17:24:02    8015143       abpnewstv         India   \n",
       "55091 2018-11-05 14:28:39    1153521    forbes_india         India   \n",
       "43831 2018-10-01 22:08:39     504191      LouisSerge        France   \n",
       "7472  2018-09-17 19:10:23     500494  RichSimmondsZA  South Africa   \n",
       "50604 2018-08-31 07:14:08     499433  RichSimmondsZA  South Africa   \n",
       "\n",
       "                                                   tweet  \n",
       "12252  From #telecom to #automobile, top 5 industries...  \n",
       "55091  IN PICTURES | The first-ever show of art creat...  \n",
       "43831  RT @edmuke: Should we be wary of #ArtificialIn...  \n",
       "7472   RT @evankirstel: Artificial Intelligence is a ...  \n",
       "50604  RT @evankirstel: Before You Fail at #Artificia...  "
      ]
     },
     "execution_count": 89,
     "metadata": {},
     "output_type": "execute_result"
    }
   ],
   "source": [
    "before.head()"
   ]
  },
  {
   "cell_type": "code",
   "execution_count": 90,
   "metadata": {},
   "outputs": [
    {
     "data": {
      "text/plain": [
       "['From #telecom to #automobile, top 5 industries to be revolutionised by #ArtificialIntelligence in 2019Details:… https://t.co/ha73zbtvWY',\n",
       " 'IN PICTURES | The first-ever show of art created by #ArtificialIntelligence just opened at the Nature Morte Gallery… https://t.co/2TjJbmocpu',\n",
       " 'RT @edmuke: Should we be wary of #ArtificialIntelligence?#AI #ML HT @evankirstel @HikariBlue@Paula_Piccard @ipfconline1 @SpirosMargaris…',\n",
       " 'RT @evankirstel: Artificial Intelligence is a great Sales Driver of the future. @ipfconline1 via @antgrasso #ArtificialIntelligence #Machin…',\n",
       " 'RT @evankirstel: Before You Fail at #ArtificialIntelligence Get a Market/Validation for Business/Product/Strategy a Critical Analysis for B…',\n",
       " 'Amazon Wants You To Help Make Alexa Smarter https://t.co/Z8fBQCnQQE #Amazon #IOTNews #ArtificialIntelligenceNews… https://t.co/1v3l75MYAI',\n",
       " 'How will #artificialintelligence transform #diagnostics? Deloitte’s Greg Reh leads the discussion on the future of… https://t.co/7SQhZ5monm',\n",
       " 'RT @future_timeline: BBC News - Portrait by AI program sells for $432,000 https://t.co/XhlMNpTTry #ArtificialIntelligence #AI #automation #…',\n",
       " 'Who Is Going To Make Money In AI?Blog post by Simon Greenman : https://t.co/2zK58Pyk0A#artificialintelligence… https://t.co/sxrZp7QjBz',\n",
       " 'Can We Make Artificial Intelligence Accountable? https://t.co/1MseB4q0VU #ArtificialIntelligence #AI https://t.co/nWykUZdBSd']"
      ]
     },
     "execution_count": 90,
     "metadata": {},
     "output_type": "execute_result"
    }
   ],
   "source": [
    "btweets = list(before.tweet)\n",
    "btweets[:10]"
   ]
  },
  {
   "cell_type": "code",
   "execution_count": 91,
   "metadata": {},
   "outputs": [
    {
     "data": {
      "text/html": [
       "<div>\n",
       "<style scoped>\n",
       "    .dataframe tbody tr th:only-of-type {\n",
       "        vertical-align: middle;\n",
       "    }\n",
       "\n",
       "    .dataframe tbody tr th {\n",
       "        vertical-align: top;\n",
       "    }\n",
       "\n",
       "    .dataframe thead th {\n",
       "        text-align: right;\n",
       "    }\n",
       "</style>\n",
       "<table border=\"1\" class=\"dataframe\">\n",
       "  <thead>\n",
       "    <tr style=\"text-align: right;\">\n",
       "      <th></th>\n",
       "      <th>date</th>\n",
       "      <th>followers</th>\n",
       "      <th>username</th>\n",
       "      <th>location</th>\n",
       "      <th>tweet</th>\n",
       "    </tr>\n",
       "  </thead>\n",
       "  <tbody>\n",
       "    <tr>\n",
       "      <th>20823</th>\n",
       "      <td>2019-01-04 23:30:09</td>\n",
       "      <td>157890</td>\n",
       "      <td>TheIotWarehouse</td>\n",
       "      <td>Rome, NY</td>\n",
       "      <td>#Intel #India #trains 99,000 people in #artifi...</td>\n",
       "    </tr>\n",
       "    <tr>\n",
       "      <th>80850</th>\n",
       "      <td>2019-01-14 21:25:08</td>\n",
       "      <td>154941</td>\n",
       "      <td>Ronald_vanLoon</td>\n",
       "      <td>#NL. Also on Instagram http://bit.ly/2NwFjws</td>\n",
       "      <td>RT @Ronald_vanLoon: This #Robot could make far...</td>\n",
       "    </tr>\n",
       "    <tr>\n",
       "      <th>13973</th>\n",
       "      <td>2019-01-10 07:45:32</td>\n",
       "      <td>97572</td>\n",
       "      <td>EXPandAMP</td>\n",
       "      <td>Worldwide</td>\n",
       "      <td>RT @evankirstel: Going up? This #robot prefers...</td>\n",
       "    </tr>\n",
       "    <tr>\n",
       "      <th>80775</th>\n",
       "      <td>2019-01-18 08:00:00</td>\n",
       "      <td>84256</td>\n",
       "      <td>paoloigna1</td>\n",
       "      <td>None</td>\n",
       "      <td>RT @DevCleary: The 30 #EmergingTechnologies of...</td>\n",
       "    </tr>\n",
       "    <tr>\n",
       "      <th>45840</th>\n",
       "      <td>2019-01-12 23:10:44</td>\n",
       "      <td>77651</td>\n",
       "      <td>7wData</td>\n",
       "      <td>België</td>\n",
       "      <td>Brian Krzanich: Intel’s #AI Commitments to Del...</td>\n",
       "    </tr>\n",
       "  </tbody>\n",
       "</table>\n",
       "</div>"
      ],
      "text/plain": [
       "                     date  followers         username  \\\n",
       "20823 2019-01-04 23:30:09     157890  TheIotWarehouse   \n",
       "80850 2019-01-14 21:25:08     154941   Ronald_vanLoon   \n",
       "13973 2019-01-10 07:45:32      97572        EXPandAMP   \n",
       "80775 2019-01-18 08:00:00      84256       paoloigna1   \n",
       "45840 2019-01-12 23:10:44      77651           7wData   \n",
       "\n",
       "                                           location  \\\n",
       "20823                                      Rome, NY   \n",
       "80850  #NL. Also on Instagram http://bit.ly/2NwFjws   \n",
       "13973                                     Worldwide   \n",
       "80775                                          None   \n",
       "45840                                        België   \n",
       "\n",
       "                                                   tweet  \n",
       "20823  #Intel #India #trains 99,000 people in #artifi...  \n",
       "80850  RT @Ronald_vanLoon: This #Robot could make far...  \n",
       "13973  RT @evankirstel: Going up? This #robot prefers...  \n",
       "80775  RT @DevCleary: The 30 #EmergingTechnologies of...  \n",
       "45840  Brian Krzanich: Intel’s #AI Commitments to Del...  "
      ]
     },
     "execution_count": 91,
     "metadata": {},
     "output_type": "execute_result"
    }
   ],
   "source": [
    "after.head()"
   ]
  },
  {
   "cell_type": "code",
   "execution_count": 92,
   "metadata": {},
   "outputs": [
    {
     "data": {
      "text/plain": [
       "['#Intel #India #trains 99,000 people in #artificialintelligence https://t.co/FvCGUlAR9v',\n",
       " 'RT @Ronald_vanLoon: This #Robot could make farming your new weekend activityby @mashable |#ArtificialIntelligence #AI #MachineLearning #…',\n",
       " 'RT @evankirstel: Going up? This #robot prefers to travel by elevator #ai #ArtificialIntelligence #MachineVision #MachineLearning #robotics…',\n",
       " 'RT @DevCleary: The 30 #EmergingTechnologies of The Next Decade:RT @evankirstel#ArtificialIntelligence #Blockchain #FinTech #IoT #Health…',\n",
       " 'Brian Krzanich: Intel’s #AI Commitments to Deliver a Better World#artificialintelligence (AI) is not only the next… https://t.co/5XYNvoQ1Os',\n",
       " 'Insightful#ArtificialIntelligence - what do #developers REALLY think? https://t.co/JJxJZxopQu #fintech… https://t.co/0uSMvOMdd8',\n",
       " \"For all the hype, AI still hasn't impacted the US economy #AI #ArtificialIntelligence https://t.co/vd1bvZ9cCx\",\n",
       " 'RT @orkun_teke: #ArtificialIntelligence is here. Will You Lead or Follow?',\n",
       " 'RT @HaroldSinnott: 7 areas of improvement for #AI in the #FutureOfWork &gt; @wef via @MikeQuindazzi &gt; #ArtificialIntelligence #MachineLearning…',\n",
       " \"RT @Ronald_vanLoon: What's new, Atlas?by @BostonDynamics |#ArtificialIntelligence #AI #ML #MachineLearning #DeepLearning #Autonomous #Ro…\"]"
      ]
     },
     "execution_count": 92,
     "metadata": {},
     "output_type": "execute_result"
    }
   ],
   "source": [
    "atweets = list(after.tweet)\n",
    "atweets[:10]"
   ]
  },
  {
   "cell_type": "code",
   "execution_count": null,
   "metadata": {
    "collapsed": true
   },
   "outputs": [],
   "source": []
  },
  {
   "cell_type": "code",
   "execution_count": null,
   "metadata": {
    "collapsed": true
   },
   "outputs": [],
   "source": []
  },
  {
   "cell_type": "code",
   "execution_count": null,
   "metadata": {
    "collapsed": true
   },
   "outputs": [],
   "source": []
  },
  {
   "cell_type": "markdown",
   "metadata": {},
   "source": [
    "### PLOT MONTHS"
   ]
  },
  {
   "cell_type": "code",
   "execution_count": 93,
   "metadata": {
    "collapsed": true
   },
   "outputs": [],
   "source": [
    "feb_date = datetime.datetime(2019,1,31,23,59)"
   ]
  },
  {
   "cell_type": "code",
   "execution_count": 94,
   "metadata": {
    "collapsed": true
   },
   "outputs": [],
   "source": [
    "jan = after[after.date < feb_date]"
   ]
  },
  {
   "cell_type": "code",
   "execution_count": 95,
   "metadata": {
    "collapsed": true
   },
   "outputs": [],
   "source": [
    "feb = after[after.date > feb_date]"
   ]
  },
  {
   "cell_type": "code",
   "execution_count": 96,
   "metadata": {
    "collapsed": true
   },
   "outputs": [],
   "source": [
    "dec_date = datetime.datetime(2018,11,30,23,59)"
   ]
  },
  {
   "cell_type": "code",
   "execution_count": 97,
   "metadata": {
    "collapsed": true
   },
   "outputs": [],
   "source": [
    "dec = before[before.date > dec_date]"
   ]
  },
  {
   "cell_type": "code",
   "execution_count": 98,
   "metadata": {
    "collapsed": true
   },
   "outputs": [],
   "source": [
    "dec_counts = dec.tweet.groupby(dec[\"date\"].dt.day).count()"
   ]
  },
  {
   "cell_type": "code",
   "execution_count": 99,
   "metadata": {
    "collapsed": true
   },
   "outputs": [],
   "source": [
    "jan_counts = jan.tweet.groupby(jan['date'].dt.day).count()"
   ]
  },
  {
   "cell_type": "code",
   "execution_count": 100,
   "metadata": {
    "collapsed": true
   },
   "outputs": [],
   "source": [
    "feb_counts = feb.tweet.groupby(feb['date'].dt.day).count()"
   ]
  },
  {
   "cell_type": "code",
   "execution_count": 101,
   "metadata": {},
   "outputs": [],
   "source": [
    "dates_data = pd.concat([dec_counts,jan_counts,feb_counts])"
   ]
  },
  {
   "cell_type": "code",
   "execution_count": 102,
   "metadata": {},
   "outputs": [
    {
     "data": {
      "text/plain": [
       "pandas.core.series.Series"
      ]
     },
     "execution_count": 102,
     "metadata": {},
     "output_type": "execute_result"
    }
   ],
   "source": [
    "type(dates_data)"
   ]
  },
  {
   "cell_type": "markdown",
   "metadata": {},
   "source": [
    "#### DOCS FOR THE PANDAS PLOT METHOD: https://pandas.pydata.org/pandas-docs/stable/reference/api/pandas.DataFrame.plot.html"
   ]
  },
  {
   "cell_type": "code",
   "execution_count": 103,
   "metadata": {},
   "outputs": [
    {
     "data": {
      "image/png": "[encoded data removed]",
      "text/plain": [
       "<Figure size 864x216 with 1 Axes>"
      ]
     },
     "metadata": {},
     "output_type": "display_data"
    }
   ],
   "source": [
    "ax = dates_data.plot(kind='bar',figsize=(12,3),colormap='spring',\\\n",
    "                    title='Frequency of Tweets from Dec 1st to Feb 4th')"
   ]
  },
  {
   "cell_type": "code",
   "execution_count": null,
   "metadata": {
    "collapsed": true
   },
   "outputs": [],
   "source": []
  },
  {
   "cell_type": "code",
   "execution_count": null,
   "metadata": {
    "collapsed": true
   },
   "outputs": [],
   "source": []
  },
  {
   "cell_type": "code",
   "execution_count": null,
   "metadata": {},
   "outputs": [],
   "source": []
  },
  {
   "cell_type": "code",
   "execution_count": 104,
   "metadata": {},
   "outputs": [],
   "source": [
    "dldf = df"
   ]
  },
  {
   "cell_type": "code",
   "execution_count": 105,
   "metadata": {
    "collapsed": true
   },
   "outputs": [],
   "source": [
    "mldf = no_ai"
   ]
  },
  {
   "cell_type": "markdown",
   "metadata": {},
   "source": [
    "## MAPPING USER LOCATIONS"
   ]
  },
  {
   "cell_type": "code",
   "execution_count": 106,
   "metadata": {},
   "outputs": [],
   "source": [
    "citiestxt = open('cities.txt','r')\n",
    "cities = []\n",
    "for line in citiestxt:\n",
    "    line = line.split('\\t')\n",
    "    names = []\n",
    "    names.append(line[2])\n",
    "    names = names + line[3].split(',')\n",
    "    for i in range(len(names)):\n",
    "        names[i] = names[i].lower()\n",
    "    names.append(line[4])\n",
    "    names.append(line[5])    \n",
    "    cities.append(names)"
   ]
  },
  {
   "cell_type": "code",
   "execution_count": 107,
   "metadata": {},
   "outputs": [
    {
     "name": "stdout",
     "output_type": "stream",
     "text": [
      "nan\n"
     ]
    }
   ],
   "source": [
    "locations = []\n",
    "for l in mldf.location:\n",
    "    try:\n",
    "        l = l.split(',')\n",
    "    except:\n",
    "        print(l)\n",
    "        continue\n",
    "    for city in cities:\n",
    "        if l[0].lower() in city:\n",
    "            locations.append((float(city[-2]),float(city[-1])))"
   ]
  },
  {
   "cell_type": "code",
   "execution_count": 108,
   "metadata": {
    "collapsed": true
   },
   "outputs": [],
   "source": [
    "locs1 = np.asarray(locations)"
   ]
  },
  {
   "cell_type": "code",
   "execution_count": 109,
   "metadata": {
    "collapsed": true
   },
   "outputs": [],
   "source": [
    "locations = []\n",
    "for l in dldf.location:\n",
    "    try:\n",
    "        l = l.split(',')\n",
    "    except:\n",
    "        print(l)\n",
    "        continue\n",
    "    for city in cities:\n",
    "        if l[0].lower() in city:\n",
    "            locations.append((float(city[-2]),float(city[-1])))"
   ]
  },
  {
   "cell_type": "code",
   "execution_count": 110,
   "metadata": {
    "collapsed": true
   },
   "outputs": [],
   "source": [
    "locs2 = np.asarray(locations)"
   ]
  },
  {
   "cell_type": "code",
   "execution_count": 111,
   "metadata": {},
   "outputs": [
    {
     "data": {
      "image/png": "[encoded data removed]",
      "text/plain": [
       "<Figure size 432x288 with 1 Axes>"
      ]
     },
     "metadata": {},
     "output_type": "display_data"
    }
   ],
   "source": [
    "import numpy as np\n",
    "import matplotlib.pyplot as plt\n",
    "from mpl_toolkits.basemap import Basemap as Basemap\n",
    "from matplotlib.colors import rgb2hex\n",
    "from matplotlib.patches import Polygon\n",
    "# Lambert Conformal map of lower 48 states.\n",
    "m = Basemap(llcrnrlon=-119,llcrnrlat=22,urcrnrlon=-64,urcrnrlat=49,\n",
    "        projection='lcc',lat_1=33,lat_2=45,lon_0=-95)\n",
    "shp_info = m.readshapefile('./st99_d00','states',drawbounds=True)\n",
    "x, y = m(locs1[:,1], locs1[:,0])\n",
    "m.scatter(x, y,marker=0,color='r')\n",
    "x, y = m(locs2[:,1], locs2[:,0])\n",
    "m.scatter(x, y,marker=2,color='b')\n",
    "plt.title('Machine Learning and Deep Learning Tweets (red & blue)')\n",
    "plt.show()"
   ]
  },
  {
   "cell_type": "code",
   "execution_count": null,
   "metadata": {
    "collapsed": true
   },
   "outputs": [],
   "source": []
  },
  {
   "cell_type": "code",
   "execution_count": null,
   "metadata": {
    "collapsed": true
   },
   "outputs": [],
   "source": []
  },
  {
   "cell_type": "code",
   "execution_count": null,
   "metadata": {
    "collapsed": true
   },
   "outputs": [],
   "source": []
  },
  {
   "cell_type": "code",
   "execution_count": null,
   "metadata": {
    "collapsed": true
   },
   "outputs": [],
   "source": []
  },
  {
   "cell_type": "code",
   "execution_count": null,
   "metadata": {
    "collapsed": true
   },
   "outputs": [],
   "source": []
  },
  {
   "cell_type": "code",
   "execution_count": null,
   "metadata": {
    "collapsed": true
   },
   "outputs": [],
   "source": []
  }
 ],
 "metadata": {
  "kernelspec": {
   "display_name": "Python 3",
   "language": "python",
   "name": "python3"
  },
  "language_info": {
   "codemirror_mode": {
    "name": "ipython",
    "version": 3
   },
   "file_extension": ".py",
   "mimetype": "text/x-python",
   "name": "python",
   "nbconvert_exporter": "python",
   "pygments_lexer": "ipython3",
   "version": "3.7.7"
  }
 },
 "nbformat": 4,
 "nbformat_minor": 2
}
