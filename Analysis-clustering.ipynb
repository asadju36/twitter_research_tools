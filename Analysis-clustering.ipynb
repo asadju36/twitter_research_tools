{
 "cells": [
  {
   "cell_type": "markdown",
   "metadata": {},
   "source": [
    "# Clustering Analysis Notebook"
   ]
  },
  {
   "cell_type": "markdown",
   "metadata": {},
   "source": [
    "#### This notebook contains a demonstration of the tools necessary for conducting clustering on Twitter data. "
   ]
  },
  {
   "cell_type": "code",
   "execution_count": 1,
   "metadata": {},
   "outputs": [
    {
     "name": "stderr",
     "output_type": "stream",
     "text": [
      "[nltk_data] Downloading package wordnet to /Users/g/nltk_data...\n",
      "[nltk_data]   Package wordnet is already up-to-date!\n"
     ]
    }
   ],
   "source": [
    "import process as proc\n",
    "import clustering as cluster\n",
    "#TODO: move this to a TRT Python file\n",
    "import org_research as org "
   ]
  },
  {
   "cell_type": "code",
   "execution_count": 2,
   "metadata": {},
   "outputs": [],
   "source": [
    "from sklearn.cluster import KMeans\n",
    "from sklearn.feature_extraction import text "
   ]
  },
  {
   "cell_type": "markdown",
   "metadata": {},
   "source": [
    "## PREPROCESSING"
   ]
  },
  {
   "cell_type": "markdown",
   "metadata": {},
   "source": [
    "### Variables for Analysis"
   ]
  },
  {
   "cell_type": "code",
   "execution_count": 49,
   "metadata": {},
   "outputs": [],
   "source": [
    "# Set the path to the parent directory containing all Tweets of interest\n",
    "DIRECTORY = './data/test/*'\n",
    "# Set to True to isolate english language tweets\n",
    "ENGLISH = True"
   ]
  },
  {
   "cell_type": "markdown",
   "metadata": {},
   "source": [
    "### Load Tweet and Generate Dataframe"
   ]
  },
  {
   "cell_type": "code",
   "execution_count": 50,
   "metadata": {},
   "outputs": [
    {
     "name": "stdout",
     "output_type": "stream",
     "text": [
      "Initial size: 183735\n",
      "Dropping duplicates...\n",
      "Final size: 121727\n"
     ]
    }
   ],
   "source": [
    "tweet_objects = proc.loadTweetObjects(DIRECTORY)\n",
    "df = proc.convertTweetsToDataframe(tweet_objects, ENGLISH)"
   ]
  },
  {
   "cell_type": "markdown",
   "metadata": {},
   "source": [
    "### Extract Potential Cashtags"
   ]
  },
  {
   "cell_type": "code",
   "execution_count": 51,
   "metadata": {},
   "outputs": [
    {
     "name": "stdout",
     "output_type": "stream",
     "text": [
      "Total potential Cashtags: 1098\n"
     ]
    }
   ],
   "source": [
    "ctdf = proc.extractPossibleCashtags(df)"
   ]
  },
  {
   "cell_type": "markdown",
   "metadata": {},
   "source": [
    "### Removing Noisy Tweets"
   ]
  },
  {
   "cell_type": "code",
   "execution_count": 109,
   "metadata": {},
   "outputs": [
    {
     "name": "stderr",
     "output_type": "stream",
     "text": [
      "/Users/g/Dropbox/_social/Analysis/process.py:135: UserWarning: Pandas doesn't allow columns to be created via a new attribute name - see https://pandas.pydata.org/pandas-docs/stable/indexing.html#attribute-access\n",
      "  noisy_terms[i].lower())\n"
     ]
    },
    {
     "name": "stdout",
     "output_type": "stream",
     "text": [
      "Removed 58415 noisy terms.\n"
     ]
    }
   ],
   "source": [
    "'''\n",
    "*** Noisy words can be identified to use to filter such tweets.\n",
    "*** Enter these words below in the noisy_terms list.\n",
    "'''\n",
    "noisy_terms = ['foxnews','foxandfriends','abc','nbc','cbs','cnn',\n",
    "              'nowthisnews','foxbusiness','reuters','youtube',\n",
    "              'saveshadowhunters','pickupshadowhunters','motoshowtime',\n",
    "              'wsj','nytimes','nyt']\n",
    "cldf = proc.removeNoisyTerms(df, noisy_terms)"
   ]
  },
  {
   "cell_type": "markdown",
   "metadata": {},
   "source": [
    "### Remove Retweets"
   ]
  },
  {
   "cell_type": "code",
   "execution_count": 110,
   "metadata": {},
   "outputs": [
    {
     "name": "stdout",
     "output_type": "stream",
     "text": [
      "Removed 905 duplicates.\n",
      "Cleaned Tweets: 61719\n"
     ]
    }
   ],
   "source": [
    "cldf = proc.removeRetweets(cldf)\n",
    "print(\"Cleaned Tweets: \" + str(cldf.shape[0]))"
   ]
  },
  {
   "cell_type": "markdown",
   "metadata": {},
   "source": [
    "## CLUSTERING"
   ]
  },
  {
   "cell_type": "code",
   "execution_count": 111,
   "metadata": {},
   "outputs": [],
   "source": [
    "additional_stop_words = ['1','2','3','4','5','6','7','8','9','wa','ha',\\\n",
    "                         'trump','realdonaldtrump','rt','amp','doe','le',\\\n",
    "                        'change','greeting','regard','en','el','la','te',\n",
    "                        'por','se','ya','10']\n",
    "stop_words = text.ENGLISH_STOP_WORDS.union(org.STOP_WORDS)\n",
    "stop_words = stop_words.union(additional_stop_words)\n",
    "temp_stop_words = []\n",
    "stop_words = stop_words.union(temp_stop_words)"
   ]
  },
  {
   "cell_type": "code",
   "execution_count": 116,
   "metadata": {},
   "outputs": [],
   "source": [
    "'''\n",
    "*** Clustering requires the use of a number of parameters for tuning.\n",
    "*** These are included below and should be set based on your project.\n",
    "'''\n",
    "n_FEATURES = 300\n",
    "n_TOPICS = 12\n",
    "n_TOP_WORDS = 10\n",
    "n_TOP_TWEETS = 15\n",
    "NGRAM = 1"
   ]
  },
  {
   "cell_type": "code",
   "execution_count": 117,
   "metadata": {},
   "outputs": [],
   "source": [
    "tfidf, tfidf_feature_names = cluster.tfidf(cldf, n_FEATURES, \\\n",
    "                                           NGRAM, stop_words)"
   ]
  },
  {
   "cell_type": "code",
   "execution_count": 118,
   "metadata": {},
   "outputs": [
    {
     "name": "stdout",
     "output_type": "stream",
     "text": [
      "Initialization complete\n",
      "Iteration  0, inertia 46063.003\n",
      "Iteration  1, inertia 44669.655\n",
      "Iteration  2, inertia 44399.077\n",
      "Iteration  3, inertia 44327.823\n",
      "Iteration  4, inertia 44301.342\n",
      "Iteration  5, inertia 44295.699\n",
      "Iteration  6, inertia 44295.573\n",
      "Iteration  7, inertia 44295.536\n",
      "Iteration  8, inertia 44295.513\n",
      "Iteration  9, inertia 44295.496\n",
      "Iteration 10, inertia 44295.486\n",
      "Converged at iteration 10: center shift 0.000000e+00 within tolerance 2.727324e-07\n"
     ]
    }
   ],
   "source": [
    "km, kmeans_embedding = cluster.KMeans(tfidf, n_TOPICS)"
   ]
  },
  {
   "cell_type": "code",
   "execution_count": 119,
   "metadata": {},
   "outputs": [
    {
     "name": "stdout",
     "output_type": "stream",
     "text": [
      "Topic 0:\n",
      "send\n",
      " message\n",
      " dm\n",
      " http\n",
      " email\n",
      " account\n",
      " assist\n",
      " address\n",
      " happy\n",
      " information\n",
      "\n",
      "1) @VodafoneIN Simply copy pasting same message instead of solving the issue....\n",
      "2) @MarisaW79253706 Sorry for they delay. We’ve received a lot more messages than usual the last little while so it’s taking a bit more time for us to respond. I have replied to your DM though. ~Talia\n",
      "3) @MainGinger13 We're sorry you're experiencing this, Allison. This isn't something we'd expect with our Non-slip white strips, so when you have time, please send us a DM. We'd be happy to help you with this further.\n",
      "4) @U2Brad This is not the kind of feedback we want to receive from our loyal customers. This promotion also is for existing customers adding a line. Please send us a DM for more information. -EC https://t.co/rMApsV8PQY\n",
      "5) @Ingemeg78 Hello Gerardo, thank you for contacting us. In this case we need you to fill all the data requested, since your travelling to the USA and there's some information which is mandatory. In case you want our assistance and finish the check in process, send us a DM ...\n",
      "6) @birthwelln1 Hi Ntokozo \n",
      "\n",
      "Our sincere apologies for the delayed response , we have checked your profile and could not find any unusual data usage. Please note we can arrange for a usage report , please provide the below :\n",
      "\n",
      "e-mail address we can send the report \n",
      "Spe... https://t.co/rNacd355Fn\n",
      "7) @hdfcsec Today again i got sms.screenshot enclosed I am unable to understand how you take a week to confirm or deny message is yours! https://t.co/Gorb13ugiv\n",
      "8) @derekbrynevans Thanks for getting in touch with the dealer, Bryn. We are going to investigate this with the dealer. Please could you private message us with further details? Thanks. ^DN\n",
      "9) @SamsungMobile  and @Android. Oreo on the Galaxy 7 Edge has been a god send. Was having issues with the phone being sluggish and getting hot and the update to Oreo has fixed all that. 👍\n",
      "10) @ipranavgaurav Hi, Pranav! Let's get that resolved right away. Did you encounter any error message when you tried to reset your password? You may also check this link that may help you with your account: https://t.co/6hpF9otW9e. Let us know how it goes.\n",
      "11) @jamywellman I apologize for our delayed response. We had a planned system maintenance over the weekend that created an outage. I'm sorry to hear that you haven't received any updates on your order. Please feel free to send us a DM if you still require assistance. -Lex\n",
      "12) @yaboydesik @KTLA And MORE taxes! Just send me a check and I’ll be happy!\n",
      "13) @yagyatyagi Hi, Sorry about that. Please send across your details to supportforums@motorola.com referring to this post. Our team will get in touch. Thanks-Sri\n",
      "14) @canas_aurea We've received your message, Aurea. We have replied to it as well as made the necessary actions to address your concern. Please take a look at our response for details. Thank you.\n",
      "15) We’re having an open casting call for our lifestyle photoshoot happening on June 22 &amp; 23! All BK lovers are most welcome to take part in it! \n",
      "Families, couples, young adults, &amp; teens are invited to send their photos and contact info on: \n",
      "online@kingfood.com.lb\n",
      "#BKLebanon https://t.co/tKVK3xXjHf\n",
      "\n",
      "\n",
      "\n",
      "Topic 1:\n",
      "dm\n",
      " http\n",
      " follow\n",
      " check\n",
      " hear\n",
      " contact\n",
      " assist\n",
      " email\n",
      " experience\n",
      " account\n",
      "\n",
      "1) @marcialong11 Hi Marcia....I am reviewing your DM now. I will escalate your concerns to the local Senior Management to have them contact you directly.  If your contact number is different than what is on the account, please DM it so I can pass it along...thank you for reaching out.\n",
      "2) @YourLordNSaver Hey Jon - Would you mind sending us a DM with more information and your email address? We'd live to look into this for you.\n",
      "3) @lovesaavs Let's talk. DM us. https://t.co/FUsmRWStIs\n",
      "4) @AppleSupport yes already restarted the phone -- will DM you!\n",
      "5) @gazf2942 Hi Gareth, thanks for your tweet, I'm sorry to hear that. Please DM us with more details (including which restaurant this was) and we'll pass this feedback on.\n",
      "6) @lardnapkin yeah, I just restart it and downgrade to iOS 11.4, DM @AppleSupport to solve this issue, they will help u.\n",
      "7) @RealMegParker @Ask_Spectrum DM me? I have a couple questions that might help lower your bill.\n",
      "8) @rachellogang Stains are the worst, Raquel, and we want to help! Can you DM us with which version you noticed this with? We're determined to help find the pad that works best for you :)\n",
      "9) @FitJayme We like the sound of that! DM for information on making the switch! *mis https://t.co/nCTAJTy60l\n",
      "10) @angeIpoison @ABHcosmetics @norvina1 @MakeupForWOC @UDM_MUAS @MorpheBrushes @JeffreeStar @COVERGIRL @BenefitBeauty @lashaholics @SigmaBeauty Yes of course, I’ll dm you now ❤️\n",
      "11) @DaniNicole28 We're so sorry for the delayed response, Dani. We're glad you've arrived and would like to take a closer look at your booking. Please DM us.\n",
      "12) @eyrisfire Hi, we are disappointed to read this. We'd like to know what happened to make you feel this way. Please DM us further details, along with your full name/zip and phone #. Thanks. ^viviana https://t.co/CoOXedUuUC\n",
      "13) @AskPayPal could you reply to my DM\n",
      "14) @Iamgiftshine Habari. Pole sana, tafadhali tunaomba ututumie  namba yako ya simu DM kwa msaada zaidi.^AM\n",
      "15) @sameerkamat I apologize, I have sent you info to your DM. - Nicole\n",
      "\n",
      "\n",
      "\n",
      "Topic 2:\n",
      "http\n",
      " netflix\n",
      " time\n",
      " love\n",
      " good\n",
      " make\n",
      " twittersupport\n",
      " xbox\n",
      " day\n",
      " people\n",
      "\n",
      "1) @BullHammerBNB @EASPORTSFIFA how do I do this ?\n",
      "2) @BrianaDeSadier @netflix  https://t.co/m2rW3gMkVR\n",
      "3) @whatsonANTV @EnergenID SEG4_ENERGEN_(A)_SITI_SURABAYA_081216059644  @WHATSONANTV @EnergenID#SAHURNYAPESBUKERSANTV17\n",
      "4) @Apple Looking forward to more reasons to stay with Android.\n",
      "5) @TwitterSupport UNLOCK MY ACCOUNT AT @toucanburger\n",
      "6) @SInow @Kara_Wagland For anyone who questioned why he wasn’t a 1st ballot HOF..TO just reminded everyone why\n",
      "7) @XboxSupport I bought it on my 360 when it first came it, why do I have to buy it again?\n",
      "8) @bioware Do I need to buy DLC to come?\n",
      "9) @LiveSmart PLS PO NAGMAMAKAAWA PO AKO SA INYO\n",
      "10) @LiveSmart dnyo alam kung gano nyo sya mppsya 😭👉🏻@ddtdz\n",
      "11) @DevrajKovi #helloyou, play today charge tomorrow with the new #motog6play ! Check it out at a #motohub or on Flipkart &amp; avail exclusive launch offers including easy EMIs, exchange offer, and more. https://t.co/ybk1l9yHcI Reply #stop to unsubscribe. https://t.co/MHIusevbLH\n",
      "12) @RkBhadrwal #helloyou, play today charge tomorrow with the new #motog6play ! Check it out at a #motohub or on Flipkart &amp; avail exclusive launch offers including easy EMIs, exchange offer, and more. https://t.co/ybk1l9yHcI Reply #stop to unsubscribe. https://t.co/9OI3IXFYiQ\n",
      "13) @RathaSubham #helloyou, play today charge tomorrow with the new #motog6play ! Check it out at a #motohub or on Flipkart &amp; avail exclusive launch offers including easy EMIs, exchange offer, and more. https://t.co/ybk1l9yHcI Reply #stop to unsubscribe. https://t.co/Ig6QnnOynV\n",
      "14) @Zeeshan255988 #helloyou, play today charge tomorrow with the new #motog6play ! Check it out at a #motohub or on Flipkart &amp; avail exclusive launch offers including easy EMIs, exchange offer, and more. https://t.co/ybk1l9yHcI Reply #stop to unsubscribe. https://t.co/ziHEqJLqG4\n",
      "15) @BantiSi331 #helloyou, play today charge tomorrow with the new #motog6play ! Check it out at a #motohub or on Flipkart &amp; avail exclusive launch offers including easy EMIs, exchange offer, and more. https://t.co/ybk1l9yHcI Reply #stop to unsubscribe. https://t.co/n9iTEC4t4T\n",
      "\n",
      "\n",
      "\n",
      "Topic 3:\n",
      "http\n",
      " learn\n",
      " read\n",
      " time\n",
      " world\n",
      " win\n",
      " year\n",
      " woman\n",
      " make\n",
      " check\n",
      "\n",
      "1) @BillGates https://t.co/q5atPtuaSE\n",
      "2) @HeadieOne Broni #NEW UK 🇬🇧 VIDEO WATCH @GRMDAILY https://t.co/ixDzg5hp6E MIXTAPE #THEONETWO LISTEN @AppleMusic https://t.co/TolAtuRFms #HIPHOPLIFEMUSIC #HHLM #HHLMGANG https://t.co/RAHqRXWHWv\n",
      "3) @yunitogurriel @BlueJays @losazulejos @mlbcuba @corte4 @Cut4 welcome back https://t.co/lZYJV8dQno\n",
      "4) @GoldmanSachs Aah yes pride... Such a normal and prideful event with no degeneracy https://t.co/BRNMkVDjpo\n",
      "5) @Google ouvre des applications pour sa deuxième classe d'accélérateur Launchpad Africa. Toujours à la recherche d'une stratégie pour booster votre activité? Créez vos sites Web sur https://t.co/G6oomhIvtT et restez en contact avec vos clients en ligne et hors ligne https://t.co/yObE2tUEKT\n",
      "6) @NRA @Intuit https://t.co/OuXZgIYO67\n",
      "7) @diskius  https://t.co/PlUp0CQWJr\n",
      "8) @EddieRay3 @larryelder @billmaher @twxcorp @therealroseanne  https://t.co/EcvzzqUWQV\n",
      "9) @FreeformTV @DomSherwood1 @MatthewDaddario @Kat_McNamara @HarryShumJr #NotOutLastHunt #SaveShadowunters https://t.co/mDmtdJsR2X\n",
      "10) هيدا قتال قتلى#الهيبة #الهيبة_العودة #رمضان_يجمعنا@Chahineactor https://t.co/aD5hHpRPvd\n",
      "11) @PopeyesChicken 🤔 https://t.co/WzWC8MyMi3\n",
      "12) @CregganDerry @BelTel @stillRaving73 Did you forget this Sherlock? https://t.co/Ft5jHdgEyK\n",
      "13) Congratulations @LucasdiGrassi for winning the #ABBFormulaE #ZurichEPrix! https://t.co/Ti2OJjFvge\n",
      "14) @TwitterMktg  https://t.co/gFn1mq7S4E\n",
      "15) AI-powered DevOps is how CA wants to reinvent software development and itself https://t.co/NJnRpGoc9E via @ZDNet @linked_do\n",
      "\n",
      "\n",
      "\n",
      "Topic 4:\n",
      "twitter\n",
      " twittersupport\n",
      " jack\n",
      " http\n",
      " account\n",
      " tweet\n",
      " people\n",
      " twittersafety\n",
      " time\n",
      " make\n",
      "\n",
      "1) @RealCandaceO @betseyross Would love to retweet you- but @Twitter is preventing it.\n",
      "2) @Mr_Trubshawe @OhNicolaaaa @Twitter Asserting that everyone she's reported for responding without her consent has been suspended too. Definitely one for the Things That Didn't Happen files.\n",
      "3) @Siqueirayurii Ah pronto, agora tenho que falar de acordo como a empresa @twitter? Me obrigue.\n",
      "4) @RealJamesWoods @missjo1964 @PatDussault @Twitter @SecretService @POTUS @jack Very disturbing rhetoric and remember people, TWITTER ENDORSES THIS and shadow bans conservatives!\n",
      "5) @RealJamesWoods @jack @Twitter Oh now... He is just doing everything it takes\" to fight @realDonaldTrump as stated. He's just another ungrateful #Brat who grew up w/o being spanked &amp; instead \"reasoned with\"\"\n",
      "6) @gesiku @Twitter Twitter isn't willing to cross the line for the big trolls, apparently :P\n",
      "7) @Twitter How dare you call me a robot ? #SaveLucifer #Lucifer\n",
      "8) @Twitter i want my old account back........\n",
      "9) @msdwrites @Robbin_Young @Twitter @TwitterSupport @jack @FLOTUS @MELANIATRUMP You're a bit late Antifa is Fascism. I bet you joined them?\n",
      "Here's why he Tweets the Collusion with the Obama Administration is so complete mist don't k ow. So make sure you're sitting down before you see this photo, wouldn't want you to get hurt? https://t.co/6gPOhjh7ix\n",
      "10) @FiveRights @Twitter @DiamondandSilk Let trump know, they will regulate these companies! Take screenshots of proof.\n",
      "11) @Twitter you're awesome love u\n",
      "12) @FrostProUg @bamthatha @Twitter @Her_Majesty4 @StayLogah @byaruhanga1f @EstherCarol6 @MusiimeSamantha @PeruthVanessa @genoeric1 @josh_mirondo @KasiitaMark Report to who ?😂 google? Wikipedia iCloud or 😂😂🤗🤗🤗\n",
      "13) @LuchaElRey #luchaunderground is now up to the #6 Trend on @Twitter let's get it to #1 Believers!!! #LuchaKliq\n",
      "14) @bobfescoe @Twitter Hey Twitter, if someone tweets the same tweet more than once a day, please do away with their account.\n",
      "15) @AmyBartner @Twitter @jack Reported as abusive myself. Hopefully it will help. And jack read your mentions !\n",
      "\n",
      "\n",
      "\n",
      "Topic 5:\n",
      "book\n",
      " http\n",
      " amazon\n",
      " read\n",
      " flight\n",
      " love\n",
      " time\n",
      " year\n",
      " ticket\n",
      " good\n",
      "\n",
      "1) Author of 16 books and Milbank Family Senior Fellow at the @HooverInst at @Stanford, @nfergus discusses the influence of social networks and new technologies throughout history https://t.co/TwneaIWMgq https://t.co/yLNkOOkTkA\n",
      "2) @nintencollect @Marvel @Disney @MarvelStudios @gamesyouloved @16bitnostalgia @mrsundaymovies @wikipediabrown @Comic_Con @DisneyComics @Comics @CBR @ComicBook Don't know about that but some nice books you have there.\n",
      "3) @delta I had an exit row seat. Confirmed this AM. I board the plane and I was moved to a regular seat. Could you please look into why this happened? I book extra room for a reason. Please DM me for ticket info.\n",
      "4) Senior Editor of @exploreplanets and self-described “Planetary Evangelist,” @elakdawalla discusses her new book about designing and engineering the @MarsCuriosity - the most complex robot ever built by @NASA https://t.co/UTKn4WxYPY https://t.co/VmiStCBLid\n",
      "5) @funkface @CHIMPSINSOCKS @HarlanCoben @NetflixUK J'agree. I also think it's an effing jeffing travesty it only seems UK and French telly picks up Harlan's books. If there was ever a born movie blockbuster script writer he's your man #AuthorManCrush\n",
      "6) @hotelsdotcom So I book a room called a suite with photos of a one bedroom room. The hotel also has a room called the same thing. But what you pay them for is a “business room” which is basically a slightly bigger regular room with no bedroom. And this is somehow my fault? How dare you.\n",
      "7) @BillGates: If you’re getting a degree from a U.S. college this spring, I have a present for you. Download a free copy of one of my favorite books: https://t.co/HyI54PFamt https://t.co/dU3J7om6xh https://t.co/QYZP7OJivv\n",
      "8) @IMDb @MoviePolls4U I was half way thru the bio, brother borrowed it, and I never got it back. Hate reading just half a book.\n",
      "9) @BarclaysUKHelp i’m going to america for 3 months and will be using my card to book flights and hotels while i’m out there, will i need to ring up to let my bank know about this?\n",
      "10) @AlexaAlemanni @UniStudios Wow it must have been like that stretch of book 5\n",
      "11) Does a hot stone massage sound like the best way to close out the week? Head to our Samsara Spa and book the rejuvenating Asian Stone treatment during your next Costa #cruise! #SpaSunday https://t.co/NzjgFfJwUi\n",
      "12) @fredjstanley @Nike I’m so happy you tweet about books\n",
      "13) @JillMansell @iBooks @BookMinxSJV @heatworld @Isabelle_Broom @julietstories @ajpearcewrites So very welcome Jill - your gorgeous book made me smile during a really challenging time - no mean feat - am going to reread this summer now things a little calmer on the parent front.\n",
      "14) @ShadowhuntersTV Sad to see this. #Shadowhunters has been a good show.  Very true to the books.  @FreeformTV drops the ball by cancelling a good show once again.\n",
      "15) @larrykingundead @Marvel Covers sell books for sure. When you look at previews it’s pretty much the only thing you see\n",
      "\n",
      "\n",
      "\n",
      "Topic 6:\n",
      "great\n",
      " http\n",
      " day\n",
      " work\n",
      " job\n",
      " time\n",
      " hope\n",
      " love\n",
      " netflix\n",
      " news\n",
      "\n",
      "1) @BTCare Great, I’ll download it now &amp; let you know, thankyou\n",
      "2) @Tayo_aLFC @Nike That's great to know.. I'd have been happier if a local company was doing this. All the best to you super eagles in the WC!\n",
      "3) @carlynuttall @fox @MLB @MLBONFOX @RedSox @astros @MLBTV @FOXSportsGOHelp @FOXSports Great question. It's garbage if you ask me. They have 3 games they're airing and I can't pick? I'd love to sit in the meeting where they draw this up.\n",
      "4) @tacobell first Taco Bell I went to was closed at 5 o’clock in the afternoon and the second one messed up our entire order.....make Taco Bell great again! https://t.co/GbvkUuNTVR\n",
      "5) @EASPORTSNBA just a huge fan of the game. Been playing Live even through all the rough times. I feel like I'd be a great asset to the #NBALIVE19 team and community. I have many ideas to help make this franchise and game even greater.\n",
      "6) @Vantiv thanks for the great customer service I’ve been on hold for 43 minutes https://t.co/O6CFngqoVY\n",
      "7) @QueenPiaMiax @McDonalds @McDonaldsUK @IcelandFoods @asda Sounds great! We've got some excellent food offers on at the moment &gt; https://t.co/Q3yYbBkDEy. So we know who you should visit 😉👍 https://t.co/3A3RtwUsZJ\n",
      "8) @TPSherlockhenry @TPS33Div @TimHortons I’ll drink to that!  Great cause. 💕\n",
      "9) RT @robbissett: Home from @SAP #SAPPHIRENOW.  Great week, good conversations, and a lot of #Orlandohumidity.  @virtustream\n",
      "10) @IMDb As a jnr reporter I met the chief animator and producer at the press screening. When chief animator Richard Williams later won an Oscar I went to his Camden studios to interview him. Great memories.\n",
      "11) @Pwags42 @FOXSportsBraves Great news Weigs! Now get back to journey to make it to the Show!\n",
      "12) @dfaires66 It sure is! Great pics.\n",
      "13) @Banter_Buddies @SherwinWilliams @Valspar_Paint The whining in the tweet I am replying to represents the thoughts of a few disgruntled fans. The Fire remains a great brand to be associated with.\n",
      "14) @BasvanKaam @myCUGC @citrix Hey Bas that sounds like a great idea\n",
      "15) @BrighthouseFin Be a great story if 80+% retirees didn’t have to get another job to make ends meet\n",
      "\n",
      "\n",
      "\n",
      "Topic 7:\n",
      "americanair\n",
      " united\n",
      " flight\n",
      " http\n",
      " hour\n",
      " child\n",
      " customer\n",
      " american\n",
      " service\n",
      " time\n",
      "\n",
      "1) @SpoxDHS @AmericanAir @united @FlyFrontier You sick sob\n",
      "2) @SpoxDHS @AmericanAir @united @FlyFrontier What's unfortunate is America being run down by racist traitorous bigots, bent on destroying our democracy.\n",
      "3) @Vpshadow1 @jmspool @AmericanAir This has me wondering how predictable all of this is. I doubt it's an outlier. I suspect someone is monitoring for variances within an acceptable range\" of delay. Doesn't seem fit for purpose.  https://t.co/icYsbul9Fv #FFP #systemsthinking\"\n",
      "4) @johnnygizmo @AmericanAir Thank goodness no. Although that wouldn’t surprise me\n",
      "5) @SSarganis @AmericanAir If you think @Delta is better - think again. They’re the worst!\n",
      "6) @s7nunez @AmericanAir We apologize for any frustration. Your airline will have you at your assigned gate as soon as possible.\n",
      "7) @Nabnana @virgingalactic @AmericanAir @AlaskaAir @SouthwestAir @Airbnb @Delta @united @FlyFrontier Thank you!!! I'll take a look :)\n",
      "8) @TrevonBluiett @AmericanAir I hope you were at least able to watch Sponge Bob SquarePants while you waited. Good luck next week!\n",
      "9) @ethom00 @AmericanAir I want one. That is awesome. I wish I was traveling this month.\n",
      "10) @AmericanAir What??? You DIDN'T reinstate my flight. U sold my seat &amp; there is no availability! I will now not get home til tomorrow morning thanks to your error. Why no email 2 customers when u cancel their ticket? (Whether cancelation was requested or not, there should be an email confim).\n",
      "11) @N2glass @Sherrys_Lane @pjoyfarra @susiemcdonnell @OpDeathEatersUS @SpoxDHS @AmericanAir @united @FlyFrontier The pretty ones are probably serving drinks on Epstien's yacht...and the little boys are in the cabins..\n",
      "12) @CrisAlexJimenez @lrossmell @AmericanAir @AmericanAir You should be ashamed. Stop transporting these children!\n",
      "13) @TravelEdgeTMC CEO,@Kim2059 getting up close and personal with the @AmericanAir Key Executive Team in Los Angeles #AmericanAirlines #LosAngeles https://t.co/iSRDIcD2K5\n",
      "14) @nelsonagholor @AmericanAir I agree with you\n",
      "15) @AmericanAir so I bought a ticket today for a flight this evening.  I see I never got added to upgrade list. Can someone tell me what went wrong? Again.\n",
      "\n",
      "\n",
      "\n",
      "Topic 8:\n",
      "applemusic\n",
      " http\n",
      " music\n",
      " apple\n",
      " love\n",
      " bts_twt\n",
      " na\n",
      " wait\n",
      " follow\n",
      " day\n",
      "\n",
      "1) @AppleMusic hi\n",
      "2) @Ashton5SOS @AppleMusic ASHTON THIS DOCUMENTARY IS BEAUTIFUL 😭💕 I’m so proud of how far y’all have come it makes so happy to see y’all happy ❤️ love you\n",
      "3) @MeekMill @AppleMusic @iTunes https://t.co/K4pXl2OkDx\n",
      "4) Available on @spotify &amp; @AppleMusic nowhttps://t.co/scA4aMF9AI\n",
      "5) @AppleMusic I have Apple Music... how do I get it again? 🤔\n",
      "6) @apple thank you for the updated FaceTime feature. However, can we pleaseeee work on getting Beyoncé's Lemonade album on @AppleMusic ??? IT'S BEEN TWO YEARS BRO.\n",
      "7) @RounderRecords @AppleMusic Nice!Now need some @ponybradshaw added to that list! :)\n",
      "8) @CTzortzia #NewMusic by @_DreadHeadYung_ #PullUp on @Spotify @AppleMusic @TIDAL @iTunes !! #ALLIKNOW. #HipHop #Rap #Single #Atlanta #ATL #Billboard #XXLFreshman #Artist #Musician #RT #Follow https://t.co/hmVG3fYuBI\n",
      "9) @cafechungha @AppleMusic it’s probably just my playlist glitching😔\n",
      "10) @qcheur @mikeshinoda @AppleMusic He was nice for the photo, he definitely was giving me the WTF look 👀 😂😻\n",
      "11) @PRETTYMUCH @AppleMusic a whole bop\n",
      "12) @AppleMusic @Luke5SOS @5SOS YESSSSS\n",
      "13) @WWEMusic @SashaBanksWWE @Spotify @AppleMusic Best theme\n",
      "14) @Daya @AppleMusic 💖💖💖\n",
      "15) @AppleMusic @Ashton5SOS @5SOS F*ck, I haven’t Apple Music\n",
      "\n",
      "\n",
      "\n",
      "Topic 9:\n",
      "number\n",
      " dm\n",
      " account\n",
      " phone\n",
      " http\n",
      " address\n",
      " contact\n",
      " send\n",
      " happy\n",
      " service\n",
      "\n",
      "1) @JayCostilow We'd be happy to assist  with your appointment concerns, Jay!  DM us with the account number or service address? We look forward to your reply.  ^Nisha  J.\n",
      "2) @linerglttrgloss Hi Dee, we're sorry to hear about your experience. We'd like to follow-up with you about this, could you please send us your contact information and your Home Depot order number with these details to customercare_canada@homedepot.com? Thank you. https://t.co/d6o91hkiYo\n",
      "3) @djeenay Hi! We continuously strive to provide you the best network. Kindly DM us your number and we will call you . - Jay https://t.co/xWzZmnFftw\n",
      "4) @LBAllred_44 Good evening! Could you please tell us where you are located and the phone number associated with this account. We would be  a bit agitated by now if that happened to us...and it has. Keep reaching out! ^PML\n",
      "5) @twitasiahk @RoamingMil @McDonalds The largest no. of nuggets which cannot be purchased is 43, the Frobenius number of the set 6,,9,20 all numbers greater than 43 can be expressed as the sum of some multiple of 6, 9, &amp; 20.. Bush was the 43rd POTUS only sensible conclusion being McDonald's was responsible for 9/11 https://t.co/5oy8wHQqRi\n",
      "6) @virginmedia I’ve already contacted them as well but the problem stems from you having my mobile number against this woman’s name when it isn’t\n",
      "7) @AngryManTV I understand your frustrations; however, in order for us to assist you please DM the tracking number and delivery address to the link provided. ^SB https://t.co/wKJHDXWGRQ\n",
      "8) @Chanlabang Truly, I apologize that your box was damaged while in transit. Are the shoes in the box damaged too? Please DM the details with the tracking number. Include your phone number and address, it may be needed. Thanks, ^LG https://t.co/wKJHDXWGRQ\n",
      "9) @windyapha Hello, please provide your trip confirmation number via DM so I can take a look for you. *TDL https://t.co/6iDGBJRMTU\n",
      "10) @fsu1820 Hello Paul, it is never our intention to disappoint our passengers, and it saddens us to learn we did this time. If you could, please share your confirmation number via the link below for further review. *TMP https://t.co/6iDGBJRMTU\n",
      "11) @PriceIsPrimary @NYSE @BlueStarIndexes #4 - #Israel has an unrivaled #Tech Ecosystem: the highest number of start-ups per-capita, 2nd highest % of spending on R&amp;D, and 350+ global companies have an #Israeli R&amp;D center\n",
      "12) @BTCare I am tweeting because I am getting nowhere, if you read the original post I am on my 3rd fault number for the same fault getting very grumpy\n",
      "13) @michmom37 Hello. I can definitely take a further look into this for you.  In a DM can you please provide your full name and phone number associated with your account so that I may better assist you?  -Ari\n",
      "14) @KayStarfire Hey, I apologize for the inconvenience this service issue is causing you. Shoot me your name, account number, and address in a DM and I'll get you set up with text alerts to let you know when your service has been restored. - Ray\n",
      "15) @Lord_Sugar @BankofAmerica @BofA_Help Send me your account numbers and I’ll handle the transfer for you. As a favour of course.!\n",
      "\n",
      "\n",
      "\n",
      "Topic 10:\n",
      "playoverwatch\n",
      " http\n",
      " game\n",
      " love\n",
      " play\n",
      " make\n",
      " people\n",
      " amazing\n",
      " good\n",
      " man\n",
      "\n",
      "1) @_LilyRoseM @PlayOverwatch Or just join the glorious pc master race! 😂😂😂 https://t.co/1fVgnjSE0i\n",
      "2) @PlayOverwatch @BroYouWack Kskkdkfkfjdkdj\n",
      "3) @Shredjeep5 @itskindred @PlayOverwatch none of them are black though.\n",
      "4) @PlayOverwatch Indiana Jones skin for McCree?\n",
      "5) @Rukikunarte @PlayOverwatch this what make me hate tracer\n",
      "6) @PlayOverwatch @Derryann1711 I AGREE, THIS IS UNFAIR.\n",
      "7) @PlayOverwatch ARE WE GETTING A HAMSTER\n",
      "8) @BryanDechart @carolinaravassa @PlayOverwatch @noblechairs @Harshavatrx @Quantic_Dream @SonyXDevEurope @PlayStationEU @Detroit_PS4 @Blizzard_Ent My cat is a huge Overwatch fan, we can't wait foe this event. :D https://t.co/fXkc450XN4\n",
      "9) @TPAIN @PlayOverwatch @Fallout @Blizzard_Ent Yo honestly, this is just too perfect to pass up. @Blizzard_Ent and @bethesda hook it up?\n",
      "10) @liontyp @PlayOverwatch Top 10 powerful anime charaters\n",
      "11) @CrashBandicoot @PlayOverwatch sex: yes\n",
      "12) @PlayOverwatch can we please stop majorly reworking characters before applying tweaks to current kits and letting those be tested? 😭😭😭\n",
      "13) @Msh3l10l @Justbpo1 @uiinal @PlayOverwatch لا تتنمر\n",
      "14) @PlayOverwatch @hermanocal do you even play overwatch\n",
      "15) @PlayOverwatch  https://t.co/VLZZRhlGnO\n",
      "\n",
      "\n",
      "\n",
      "Topic 11:\n",
      "twitch\n",
      " http\n",
      " live\n",
      " love\n",
      " work\n",
      " awesome\n",
      " game\n",
      " happy\n",
      " thing\n",
      " man\n",
      "\n",
      "1) @ChicaIive @Twitch I know right. Its sick.\n",
      "2) @SkylarSkynyx @Twitch HAPPY BIRTHDAY!!!\n",
      "3) @J0HNNYxSAVAGE @CYBERPOWERPC @CatsyPatz @Demented_RTs @GFXCoach @Quickest_Rts @ContentRT @ContentRTs @Twitch @SupStreamers @smallstreamerco Awesome\n",
      "4) @BasoStream @Twitch  https://t.co/8SUgChWwO9\n",
      "5) @unspokenjoke895 @insomniacgames @Twitch I just said that\n",
      "6) @Beavs @Twitch Elitist Jerks? That was great!\n",
      "7) @RoninKOW @Twitch No it's not. You must not know how to fly brother! Haha\n",
      "8) @Twitch @TwitchSupport Tell me why @timthetatman is live by he doesn’t show up on my live followed channels?\n",
      "9) @Simplexes @hankgreen @Prototypenox @Twitch Feel free to refute it then, you've yet to provide a cogent argument to neck up your opinion.\n",
      "Which is fine, just don't pretend like out has any rational basis.\n",
      "10) @OG_CatfishTV @Twitch wow congrats man!! keep it up!\n",
      "11) @BikeManStream @Twitch What would be awesome is an IP ban button, something that only owners can use and that prevents them from accessing your page at all / return them to the directory. No idea if thats possible but it would save 90% of harassment / ban evasion cases\n",
      "12) @HJTenchi @Twitch @Chuumunity We diiiid it. Im so happy, tenchi. Sooooo happy ;-;\n",
      "13) @Bummy_TV @Twitch Or you could bust your ass and make partner. Just a thought.\n",
      "14) @GraceRandolph @Twitch yes!\n",
      "15) @DyingLightGame @Twitch what about co op how will that work\n",
      "\n",
      "\n",
      "\n"
     ]
    }
   ],
   "source": [
    "cluster.printClusterResults(cldf, km, tfidf, tfidf_feature_names,\\\n",
    "                   n_TOP_WORDS, n_TOP_TWEETS, n_TOPICS)"
   ]
  },
  {
   "cell_type": "code",
   "execution_count": null,
   "metadata": {},
   "outputs": [],
   "source": []
  },
  {
   "cell_type": "code",
   "execution_count": null,
   "metadata": {},
   "outputs": [],
   "source": []
  },
  {
   "cell_type": "code",
   "execution_count": null,
   "metadata": {},
   "outputs": [],
   "source": []
  },
  {
   "cell_type": "code",
   "execution_count": null,
   "metadata": {},
   "outputs": [],
   "source": []
  }
 ],
 "metadata": {
  "kernelspec": {
   "display_name": "Python 3",
   "language": "python",
   "name": "python3"
  },
  "language_info": {
   "codemirror_mode": {
    "name": "ipython",
    "version": 3
   },
   "file_extension": ".py",
   "mimetype": "text/x-python",
   "name": "python",
   "nbconvert_exporter": "python",
   "pygments_lexer": "ipython3",
   "version": "3.7.7"
  }
 },
 "nbformat": 4,
 "nbformat_minor": 2
}
